{
 "cells": [
  {
   "cell_type": "code",
   "execution_count": null,
   "metadata": {
    "tags": []
   },
   "outputs": [],
   "source": [
    "import numpy as np\n",
    "%matplotlib inline  \n",
    "import matplotlib.pyplot as plt"
   ]
  },
  {
   "cell_type": "markdown",
   "metadata": {},
   "source": [
    "# Exercise 2.14\n",
    "---\n",
    "\n",
    "This really just shows the numerical part of part (c) below. Student should fill in the missing parts of the problem here. "
   ]
  },
  {
   "cell_type": "code",
   "execution_count": null,
   "metadata": {},
   "outputs": [],
   "source": [
    "def make_A_S2(n):\n",
    "    # Why is this correct? Students should create a Markdown cell above to explain/derive\n",
    "    A = np.zeros((n+1,n+1))\n",
    "    np.fill_diagonal(A,2)\n",
    "    A += np.diag(-np.ones(n),k=1)\n",
    "    A += np.diag(-np.ones(n),k=-1)\n",
    "    A[-1,-2] += -1  \n",
    "    return A"
   ]
  },
  {
   "cell_type": "code",
   "execution_count": null,
   "metadata": {},
   "outputs": [],
   "source": [
    "n_trials = [5, 10, 20, 40, 80]\n",
    "E_h = np.zeros(5)\n",
    "h = np.zeros(5)\n",
    "alpha_h = np.zeros(5)"
   ]
  },
  {
   "cell_type": "code",
   "execution_count": null,
   "metadata": {},
   "outputs": [],
   "source": [
    "count = 0\n",
    "%matplotlib widget\n",
    "plt.figure(0)\n",
    "# Header for table output in format useful for copy/paste into LaTeX\n",
    "table = '  $n$   &   $h$    &     $E_h$    &   Rate of Conv.  \\\\ \\hline' + '\\n'\n",
    "for n in n_trials:\n",
    "    A = make_A_S2(n)\n",
    "    \n",
    "    x = np.linspace(0,1,n+2)\n",
    "    h[count] = x[1]-x[0]\n",
    "    b = h[count]**2 * -np.exp(x-1)  # Why is this correct?\n",
    "    b[-1] += 2*h[count]  # Why is this correct?\n",
    "    \n",
    "    v = np.zeros(n+2)\n",
    "    v[1:] = np.linalg.solve(A, b[1:])  # Numerical soln. using Gaussian elimination\n",
    "\n",
    "    u = np.exp(-1)*(np.exp(x)-1)  # Exact soln.\n",
    "    \n",
    "    E_h[count] = np.max(np.abs(u-v))\n",
    "    \n",
    "    if count == 0:\n",
    "        table += ' {:3d}    &   {:.3f}  &  {:.3e}   &         '.format(n, h[count], E_h[count]) + '   \\\\' + '\\n'\n",
    "    else:\n",
    "        alpha_h[count] = np.log(E_h[count]/E_h[count-1])/np.log(h[count]/h[count-1])\n",
    "        table += ' {:3d}    &   {:.3f}  &  {:.3e}   &   {:.4f} '.format(n, h[count], E_h[count], alpha_h[count]) + '  \\\\' + '\\n'\n",
    "    \n",
    "    plt.plot(x,v,label='Num. Soln. $v$ w/ n=' + str(n))\n",
    "    plt.plot(x,u,label='Exact Soln. $u$ w/ n=' + str(n))\n",
    "    \n",
    "    count +=1\n",
    "\n",
    "plt.legend(shadow=True)             \n",
    "print(table)"
   ]
  },
  {
   "cell_type": "code",
   "execution_count": null,
   "metadata": {},
   "outputs": [],
   "source": [
    "def make_A_S1(n):\n",
    "    # Why is this correct? Students should create a Markdown cell above to explain/derive\n",
    "    A = np.zeros((n+1,n+1))\n",
    "    np.fill_diagonal(A,2)\n",
    "    A += np.diag(-np.ones(n),k=1)\n",
    "    A += np.diag(-np.ones(n),k=-1)\n",
    "    A[-1,-1] += -1\n",
    "    return A"
   ]
  },
  {
   "cell_type": "code",
   "execution_count": null,
   "metadata": {},
   "outputs": [],
   "source": [
    "A = make_A_S2(4)\n",
    "print(A)"
   ]
  },
  {
   "cell_type": "code",
   "execution_count": null,
   "metadata": {},
   "outputs": [],
   "source": [
    "n_trials = [5, 10, 20, 40, 80]\n",
    "E_h = np.zeros(5)\n",
    "h = np.zeros(5)\n",
    "alpha_h = np.zeros(5)"
   ]
  },
  {
   "cell_type": "code",
   "execution_count": null,
   "metadata": {},
   "outputs": [],
   "source": [
    "count = 0\n",
    "%matplotlib widget\n",
    "plt.figure(0)\n",
    "# Header for table output in format useful for copy/paste into LaTeX\n",
    "table = '  $n$   &   $h$    &     $E_h$    &   Rate of Conv.  \\\\ \\hline' + '\\n'\n",
    "for n in n_trials:\n",
    "    A = make_A_S1(n)\n",
    "    \n",
    "    x = np.linspace(0,1,n+2)\n",
    "    h[count] = x[1]-x[0]\n",
    "    b = h[count]**2 * -np.exp(x-1)  # Why is this correct?\n",
    "    b[-1] = h[count]*1  # Why is this correct?\n",
    "    \n",
    "    v = np.zeros(n+2)\n",
    "    v[1:] = np.linalg.solve(A, b[1:])  # Numerical soln. using Gaussian elimination\n",
    "\n",
    "    u = np.exp(-1)*(np.exp(x)-1)  # Exact soln.\n",
    "    \n",
    "    E_h[count] = np.max(np.abs(u-v))\n",
    "    \n",
    "    if count == 0:\n",
    "        table += ' {:3d}    &   {:.3f}  &  {:.3e}   &         '.format(n, h[count], E_h[count]) + '   \\\\' + '\\n'\n",
    "    else:\n",
    "        alpha_h[count] = np.log(E_h[count]/E_h[count-1])/np.log(h[count]/h[count-1])\n",
    "        table += ' {:3d}    &   {:.3f}  &  {:.3e}   &   {:.4f} '.format(n, h[count], E_h[count], alpha_h[count]) + '  \\\\' + '\\n'\n",
    "    \n",
    "    plt.plot(x,v,label='Num. Soln. $v$ w/ n=' + str(n))\n",
    "    plt.plot(x,u,label='Exact Soln. $u$ w/ n=' + str(n))\n",
    "    \n",
    "    count +=1\n",
    "\n",
    "plt.legend(shadow=True)             \n",
    "print(table)"
   ]
  },
  {
   "cell_type": "code",
   "execution_count": null,
   "metadata": {},
   "outputs": [],
   "source": []
  }
 ],
 "metadata": {
  "anaconda-cloud": {},
  "kernelspec": {
   "display_name": "Python 3",
   "language": "python",
   "name": "python3"
  },
  "language_info": {
   "codemirror_mode": {
    "name": "ipython",
    "version": 3
   },
   "file_extension": ".py",
   "mimetype": "text/x-python",
   "name": "python",
   "nbconvert_exporter": "python",
   "pygments_lexer": "ipython3",
   "version": "3.8.8"
  }
 },
 "nbformat": 4,
 "nbformat_minor": 4
}
