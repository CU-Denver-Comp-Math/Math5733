{
 "cells": [
  {
   "cell_type": "markdown",
   "metadata": {},
   "source": [
    "# Chapter 2: Exercise 2.3\n",
    "\n",
    "Consider the two-point BVP \n",
    "\n",
    "$$\n",
    "\\large -u'' = f, \\ x\\in (a,b), \\ u(a)=0=u(b).\n",
    "$$\n",
    "\n",
    "Find the Green's function $G=G(x,y)$ such that the solution to the BVP can be written compactly as\n",
    "\n",
    "$$\n",
    "\\large u(x) = \\int_a^b G(x,y)f(y)\\, dy.\n",
    "$$\n",
    "\n",
    "Use this representation to compute solutions to the BVP when\n",
    "\n",
    "(a) $f(x) = 1$\n",
    "\n",
    "(b) $f(x) = x$\n",
    "\n",
    "(c) $f(x) = x^2$"
   ]
  },
  {
   "cell_type": "markdown",
   "metadata": {},
   "source": [
    "## So what is a Green's functions exactly?\n",
    "\n",
    "The Wiki article https://en.wikipedia.org/wiki/Green's_function contains some useful information, but perhaps the most useful part of the article comes in the motivation where it states (edits and emphasis are my own):\n",
    "\n",
    "> Thus, one may obtain the function u(x) through knowledge of the Green's function ... and the [data]. This process relies upon the linearity of the [differential] operator ...\n",
    "\n",
    "> In other words, the solution ..., u(x), can be determined by ... integration ... Although f (x) is known, this integration cannot be performed unless G is also known. The problem now lies in finding the Green's function G ... For this reason, the Green's function is also sometimes called the ***fundamental solution*** ...\n",
    "\n",
    "> ***Not every [differential] operator*** ... ***admits a Green's function***. A Green's function can also be thought of as a ***right inverse of [the differential operator]***. Aside from the difficulties of finding a Green's function for a particular operator, the integral [for computing u(x)] may be quite difficult to evaluate. However the method gives a theoretically exact result.\n",
    "\n",
    "The integral used to compute $u(x)=\\int_a^b G(x,y)f(y)\\, dy$ in fact reveals something else about the Green's function $G(x,y)$. \n",
    "Specifically, the value of the solution $u$ at the point $x$ is determined by a type of ***weighted sum*** of the data $f$ over the interval $[a,b]$.\n",
    "In a sense, $G(x,y)$ is indicating how the value of the data $f$ at the point $y$ is influencing the solution $u$ at the point $x$. \n",
    "\n",
    "This can be described in more plain terms using a specific application for which this particular BVP above is a model.\n",
    "Consider an elastic bar of length $b-a$ and uniform stiffness $1$ that is positioned horizontally with both ends clamped so that they cannot move to an external force applied to the bar.\n",
    "Application of a force in the vertical direction causes a bending of the bar with vertical displacement modeled by the above BVP.\n",
    "Suppose the force $f$ is given by\n",
    "\n",
    "$$\n",
    "\\large d_{y,\\Delta x}(x) = \\left\\{\\begin{array}{rr}\n",
    "                                    \\frac{x-y+\\Delta x}{(\\Delta x)^2}, & -\\Delta x + y < x < y, \\\\\n",
    "                                    -\\frac{x-y-\\Delta x}{(\\Delta x)^2}, & y \\leq x < y+\\Delta x, \\\\\n",
    "                                    0, & \\text{else}.\n",
    "                                  \\end{array}\n",
    "                           \\right.\n",
    "$$\n",
    "\n",
    "We show some plots of $d_{y,\\Delta x}(x)$ below for $a=0$, $b=1$, $\\Delta x = 0.1$ and $y=0.2, 0.5,$ and $0.7$."
   ]
  },
  {
   "cell_type": "code",
   "execution_count": null,
   "metadata": {
    "tags": []
   },
   "outputs": [],
   "source": [
    "import numpy as np\n",
    "%matplotlib widget  \n",
    "import matplotlib.pyplot as plt"
   ]
  },
  {
   "cell_type": "code",
   "execution_count": null,
   "metadata": {
    "collapsed": false,
    "jupyter": {
     "outputs_hidden": false
    }
   },
   "outputs": [],
   "source": [
    "def d_y(x, y, delta_x):\n",
    "    if (-delta_x + y) < x < y:\n",
    "        z = (x-y+delta_x)/(delta_x**2)\n",
    "    elif (y <= x < y + delta_x):\n",
    "        z = -(x-y-delta_x)/(delta_x**2)\n",
    "    else:\n",
    "        z = 0\n",
    "    return z"
   ]
  },
  {
   "cell_type": "code",
   "execution_count": null,
   "metadata": {
    "collapsed": false,
    "jupyter": {
     "outputs_hidden": false
    }
   },
   "outputs": [],
   "source": [
    "%matplotlib widget\n",
    "plt.figure(1)\n",
    "\n",
    "Delta_x = 0.1\n",
    "ys = [0.2,0.5,0.7]\n",
    "num_pts = 49  # number of interior points\n",
    "x_mesh = np.linspace(0,1,num_pts+2)\n",
    "f = np.zeros(num_pts+2)\n",
    "\n",
    "for y in ys:\n",
    "    for i in range(0,num_pts+2):\n",
    "        f[i] = d_y(x_mesh[i], y, Delta_x)\n",
    "    plt.plot(x_mesh, f, label=str(y))\n",
    "plt.legend();"
   ]
  },
  {
   "cell_type": "markdown",
   "metadata": {},
   "source": [
    "Using equations for the area of a triangle, we clearly see that \n",
    "\n",
    "$$\n",
    "   \\int_a^b d_{y,\\Delta x}(x) \\, dx = \\int_{y-\\Delta x}^{y+\\Delta x} d_{y,\\Delta x}\\, dx = 1\n",
    "$$ \n",
    "\n",
    "(assuming we did not choose $y$ too close to the boundary of $[a,b]$ which might truncate the support of this function).\n",
    "\n",
    "Now, with such a forcing function (based on choosing an appropriate $y$ and $\\Delta x$), we have that\n",
    "\n",
    "$$\n",
    "    \\begin{eqnarray}\n",
    "        u(x) &=& \\int_a^b G(x,y) d_{y,\\Delta x}(x)\\, dy \\\\\n",
    "             &=& \\int_{y-\\Delta x}^{y+\\Delta x} G(x,y) d_{y,\\Delta x}(x) \\, dy.\n",
    "    \\end{eqnarray}\n",
    "$$\n",
    "\n",
    "Assuming that $G$ is also continuous, the integral mean value theorem implies there exists some $c\\in(y-\\Delta x, y+\\Delta x)$ such that \n",
    "\n",
    "$$\n",
    "    u(x) = G(x,c)d_{y,\\Delta x}(c)(2\\Delta x).\n",
    "$$\n",
    "\n",
    "Since $\\int_a^b d_{y,\\Delta x}(x)\\, dx = 1$, we expect that for sufficiently small $\\Delta x$ that $d_{y,\\Delta x}(c)(2\\Delta x)\\approx 1$ (again by the integral mean value theorem). \n",
    "Moreover, for small $\\Delta x$, $c\\approx y$.\n",
    "Thus, for sufficiently small $\\Delta x$, we expect that\n",
    "\n",
    "$$\n",
    "    u(x) \\approx G(x,y).\n",
    "$$\n",
    "\n",
    "In other words, the Green's function describes how the bar bends at point $x$ due to a very localized unit force applied to the bar at point $y$. \n",
    "\n",
    "This suggests taking the limit as $\\Delta x\\downarrow 0$ of $d_{y,\\Delta x}(x)$ and defining the limit function as $\\delta_y(x)$, or simply as $\\delta(x-y)$, which by pointwise limits appears to have the properties that\n",
    "\n",
    "$$\n",
    "    \\delta(x-y)=0, \\ \\text{ if } x\\neq y \\Rightarrow \\delta(x) = 0, \\ \\text{ if } x\\neq 0,\n",
    "$$\n",
    "\n",
    "and\n",
    "\n",
    "$$\n",
    "    \\delta(x-y) = \\infty, \\ \\text{ if } x= y \\Rightarrow \\delta(x) = \\infty, \\ \\text{ if } x\\neq 0,\n",
    "$$\n",
    "\n",
    "and by the above integral approximations should also possess the properties that\n",
    "\n",
    "$$\n",
    "    \\int_a^b \\delta(x-y)\\, dx = \\left\\{\\begin{array}{rr}\n",
    "                                        1, & \\text{if } y\\in[a,b],\\\\\n",
    "                                        0, & \\text{if } y\\notin[a,b],\n",
    "                                        \\end{array}\n",
    "                                 \\right.\n",
    "$$\n",
    "\n",
    "and, for continuous functions $g$ on $[a,b]$, \n",
    "\n",
    "$$\n",
    "    \\int_a^b g(x)\\delta(x-y)\\, dx = \\left\\{\\begin{array}{rr}\n",
    "                                        g(y), & \\text{if } y\\in[a,b],\\\\\n",
    "                                        0, & \\text{if } y\\notin[a,b].\n",
    "                                        \\end{array}\n",
    "                                 \\right.\n",
    "$$\n",
    "\n",
    "Of course, no such function can have these properties. \n",
    "Nonetheless, we refer to this $\\delta$ as the Dirac delta function (see https://en.wikipedia.org/wiki/Dirac_delta_function), which is a type of *generalized* function where all the formal properties above are made quite rigorous using the theory of ***distributions*** (see https://en.wikipedia.org/wiki/Distribution_(mathematics)).\n",
    "However, this topic is beyond the scope of this course (it is best studied in a more advanced PDEs or special topics course after taking functional analysis).\n",
    "Therefore, we will simply use this Dirac delta function and all of its properties to derive formal solutions, Green's functions, etc. with the comforting knowledge that everything is somehow justified (similar to how we will use Fourier series later in the course)."
   ]
  },
  {
   "cell_type": "markdown",
   "metadata": {},
   "source": [
    "## Determining the Green's function.\n",
    "\n",
    "We use the [Theorem from the Wiki page](https://en.wikipedia.org/wiki/Green's_function#Theorem) to determine an algorithm for solving  \n",
    "\n",
    "$$\n",
    "\\large -u'' = \\delta(x-y), \\ x\\in(a,b), \\ u(a)=0=u(b)\n",
    "$$\n",
    "\n",
    "where $y\\in(a,b)$ and $\\delta$ denotes the Dirac delta function. \n",
    "This solution determines the Green's function $G(x,y)$.\n",
    "\n",
    "From conditions 1 and 2 in the Theorem, we get the following\n",
    "> <span style='background:rgba(255,255,0, 0.5)'>Step 1: Determine continuous solutions to the homogeneous differential equation.</span>\n",
    "<br><br>\n",
    "The fundamental set of solutions is useful here, and the solution is broken up into two parts: where $x<y$ and where $y<x$.\n",
    "\n",
    "When $x\\neq y$, $\\delta(x-y)=0$, and the fundamental set of solutions to the homogeneous ODE $-u''=0$ is given by\n",
    "\n",
    "$$\n",
    " \\large   \\{1, x\\}. \n",
    "$$\n",
    "\n",
    "Let $u^-(x)$ denote the part of the solution for $x<y$ and $u^+(x)$ denote the part of the solution for $x>y$. \n",
    "\n",
    "Then, we have that\n",
    "\n",
    "$$\n",
    " \\large u^-(x) = c_1 + c_2x,\n",
    "$$\n",
    "\n",
    "and\n",
    "\n",
    "$$\n",
    "\\large u^+(x) = c_3 + c_4x,\n",
    "$$\n",
    "\n",
    "where $c_1,c_2,c_3, $ and $c_4$ are constants. \n",
    "\n",
    "From conditions 3 and 4 in the Theorem, we get the following\n",
    "> <span style='background:rgba(255,255,0, 0.5)'>Step 2: Setup and solve a linear system to determine the constants.</span>\n",
    "<br><br>\n",
    "The boundary conditions and the fact that the derivative has to \"jump\" are the key things to use here to setup four conditions for the four unknown constants.\n",
    "\n",
    "We use the following four conditions to setup a linear system of equations to determine the constants:\n",
    "\n",
    "(1) $u^-(a) = 0$\n",
    "\n",
    "(2) $u^+(b) = 0$\n",
    "\n",
    "(3) $u^-(y) = u^+(y)$\n",
    "\n",
    "(4) $(u^+)'(y) - (u^-)'(y) = -1$\n",
    "\n",
    "It is conceptually convenient (but not necessary) to write these in the following order: (1), (3), (4), and (2). This represents a flow of information in the equatins from left-to-right where the middle two equations represent the information at the interior point $y$. This gives the following system of equations.\n",
    "\n",
    "$$\n",
    "    \\left\\{\n",
    "        \\begin{array}{rrrrrrrrrr}\n",
    "            c_1 &+& ac_2 & &  & &   &=& 0, \\\\\n",
    "            -c_1 &-& yc_2 &+& c_3 &+& yc_4 &=& 0,\\\\\n",
    "                & & -c_2  & &     &+& c_4  &=& -1, \\\\\n",
    "                & &      & & c_3 &+& bc_4 &=& 0,\n",
    "        \\end{array}\n",
    "    \\right.\n",
    "$$\n",
    "\n",
    "which we solve below using the ``SymPy`` library (see http://docs.sympy.org/latest/index.html for more info)."
   ]
  },
  {
   "cell_type": "code",
   "execution_count": null,
   "metadata": {
    "collapsed": false,
    "jupyter": {
     "outputs_hidden": false
    }
   },
   "outputs": [],
   "source": [
    "import sympy as sp  # Similar to symbolic toolbox in Matlab\n",
    "\n",
    "a, b, x, y = sp.symbols('a, b, x, y')\n",
    "c1, c2, c3, c4 = sp.symbols('c1, c2, c3, c4')\n",
    "\n",
    "A = sp.Matrix(([1, a, 0, 0],\n",
    "               [-1, -y, 1, y],\n",
    "               [0, -1, 0, 1],\n",
    "               [0, 0, 1, b]))\n",
    "\n",
    "data = sp.Matrix([0,0,-1,0])\n",
    "\n",
    "cs = sp.linsolve((A, data), c1,c2,c3,c4)\n",
    "print(cs)"
   ]
  },
  {
   "cell_type": "code",
   "execution_count": null,
   "metadata": {},
   "outputs": [],
   "source": [
    "print(type(cs))"
   ]
  },
  {
   "cell_type": "code",
   "execution_count": null,
   "metadata": {},
   "outputs": [],
   "source": [
    "cs"
   ]
  },
  {
   "cell_type": "code",
   "execution_count": null,
   "metadata": {},
   "outputs": [],
   "source": [
    "cs.args[0]  # Now a tuple"
   ]
  },
  {
   "cell_type": "code",
   "execution_count": null,
   "metadata": {},
   "outputs": [],
   "source": [
    "# So maybe a better way to do this is like this\n",
    "cs_pretty = sp.linsolve((A, data), c1,c2,c3,c4)\n",
    "cs = cs_pretty.args[0]"
   ]
  },
  {
   "cell_type": "code",
   "execution_count": null,
   "metadata": {
    "collapsed": false,
    "jupyter": {
     "outputs_hidden": false
    }
   },
   "outputs": [],
   "source": [
    "sp.factor(sp.simplify(cs[0] +  cs[1]*x))"
   ]
  },
  {
   "cell_type": "code",
   "execution_count": null,
   "metadata": {
    "collapsed": false,
    "jupyter": {
     "outputs_hidden": false
    }
   },
   "outputs": [],
   "source": [
    "sp.factor(sp.simplify(cs[2] + cs[3]*x))"
   ]
  },
  {
   "cell_type": "markdown",
   "metadata": {},
   "source": [
    "### The Green's function\n",
    "\n",
    "From the above computation, we see that\n",
    "\n",
    "$$\n",
    "    \\large G(x,y) = \\left\\{ \\begin{array}{rr}\n",
    "                                \\frac{1}{a-b}(a-x)(b-y), & x<y, \\\\\n",
    "                                \\frac{1}{a-b}(a-y)(b-x), & y\\leq x.\n",
    "                            \\end{array}\n",
    "                    \\right.\n",
    "$$\n",
    "\n",
    "We define this using the ``Piecewise`` function available in ``SymPy``. "
   ]
  },
  {
   "cell_type": "code",
   "execution_count": null,
   "metadata": {
    "collapsed": false,
    "jupyter": {
     "outputs_hidden": false
    }
   },
   "outputs": [],
   "source": [
    "G = sp.Piecewise(((a - x)*(b - y)/(a - b), x<y),\n",
    "                 ((a - y)*(b - x)/(a - b), y<=x))"
   ]
  },
  {
   "cell_type": "code",
   "execution_count": null,
   "metadata": {},
   "outputs": [],
   "source": [
    "G"
   ]
  },
  {
   "cell_type": "markdown",
   "metadata": {},
   "source": [
    "We ``lambdify`` this function so that we can easily evaluate it and make plots to check that everything is working for a more familiar case when $a=0$ and $b=1$."
   ]
  },
  {
   "cell_type": "code",
   "execution_count": null,
   "metadata": {
    "collapsed": false,
    "jupyter": {
     "outputs_hidden": false
    }
   },
   "outputs": [],
   "source": [
    "from sympy.utilities.lambdify import lambdify\n",
    "\n",
    "G_eval = lambdify((a,b,x,y), G)"
   ]
  },
  {
   "cell_type": "code",
   "execution_count": null,
   "metadata": {
    "collapsed": false,
    "jupyter": {
     "outputs_hidden": false
    }
   },
   "outputs": [],
   "source": [
    "x_mesh = np.linspace(0,1,21)\n",
    "\n",
    "y_pt1 = 0.2\n",
    "y_pt2 = 0.5\n",
    "y_pt3 = 0.9\n",
    "\n",
    "%matplotlib widget\n",
    "plt.figure(2)\n",
    "plt.plot(x_mesh, G_eval(0,1,x_mesh,y_pt1), label='y_pt1')\n",
    "plt.plot(x_mesh, G_eval(0,1,x_mesh,y_pt2), label='y_pt2')\n",
    "plt.plot(x_mesh, G_eval(0,1,x_mesh,y_pt3), label='y_pt3')\n",
    "plt.legend()"
   ]
  },
  {
   "cell_type": "markdown",
   "metadata": {},
   "source": [
    "#### Part (a):\n",
    "\n",
    "$f(x) = 1$ implies that\n",
    "\n",
    "$$\n",
    "    u(x)=\\int_a^b G(x,y)\\, dy = \\int_a^x G(x,y)\\, dy + \\int_x^b G(x,y)\\, dy.\n",
    "$$"
   ]
  },
  {
   "cell_type": "code",
   "execution_count": null,
   "metadata": {
    "collapsed": false,
    "jupyter": {
     "outputs_hidden": false
    }
   },
   "outputs": [],
   "source": [
    "u1_indef = sp.integrate(G, y)\n",
    "u1_indef"
   ]
  },
  {
   "cell_type": "code",
   "execution_count": null,
   "metadata": {
    "collapsed": false,
    "jupyter": {
     "outputs_hidden": false
    }
   },
   "outputs": [],
   "source": [
    "upper_val = sp.simplify(u1_indef.subs(y,b))\n",
    "upper_val"
   ]
  },
  {
   "cell_type": "code",
   "execution_count": null,
   "metadata": {},
   "outputs": [],
   "source": [
    "upper_val.args[1]"
   ]
  },
  {
   "cell_type": "code",
   "execution_count": null,
   "metadata": {},
   "outputs": [],
   "source": [
    "upper_val.args[1][0]  # This is what we want to use"
   ]
  },
  {
   "cell_type": "code",
   "execution_count": null,
   "metadata": {
    "collapsed": false,
    "jupyter": {
     "outputs_hidden": false
    }
   },
   "outputs": [],
   "source": [
    "lower_val = sp.simplify(u1_indef.subs(y,a))"
   ]
  },
  {
   "cell_type": "code",
   "execution_count": null,
   "metadata": {},
   "outputs": [],
   "source": [
    "lower_val.args[0][0]  # This is what we want to use"
   ]
  },
  {
   "cell_type": "code",
   "execution_count": null,
   "metadata": {
    "collapsed": false,
    "jupyter": {
     "outputs_hidden": false
    }
   },
   "outputs": [],
   "source": [
    "u1 = sp.factor(upper_val.args[1][0] + lower_val.args[0][0])\n",
    "print(\"Solution to part (a): u(x) = \")\n",
    "u1"
   ]
  },
  {
   "cell_type": "code",
   "execution_count": null,
   "metadata": {
    "collapsed": false,
    "jupyter": {
     "outputs_hidden": false
    }
   },
   "outputs": [],
   "source": [
    "u1_fcn = lambdify((a,b), u1)\n",
    "print(\"Check with a=0, b=1: u(x) = \")\n",
    "u1_fcn(0,1)"
   ]
  },
  {
   "cell_type": "markdown",
   "metadata": {},
   "source": [
    "#### Part (b):\n",
    "\n",
    "$f(x)=x$ implies that\n",
    "\n",
    "$$\n",
    "    u(x) = \\int_a^x G(x,y)y\\, dy + \\int_x^b G(x,y)y\\, dy.\n",
    "$$"
   ]
  },
  {
   "cell_type": "code",
   "execution_count": null,
   "metadata": {
    "collapsed": false,
    "jupyter": {
     "outputs_hidden": false
    }
   },
   "outputs": [],
   "source": [
    "u2_form = sp.integrate(G*y, y)\n",
    "upper_val = sp.simplify(u2_form.subs(y,b))\n",
    "lower_val = sp.simplify(u2_form.subs(y,a))"
   ]
  },
  {
   "cell_type": "code",
   "execution_count": null,
   "metadata": {},
   "outputs": [],
   "source": [
    "upper_val"
   ]
  },
  {
   "cell_type": "code",
   "execution_count": null,
   "metadata": {},
   "outputs": [],
   "source": [
    "lower_val"
   ]
  },
  {
   "cell_type": "code",
   "execution_count": null,
   "metadata": {
    "collapsed": false,
    "jupyter": {
     "outputs_hidden": false
    }
   },
   "outputs": [],
   "source": [
    "u2 = sp.factor(upper_val.args[1][0] + lower_val.args[0][0])\n",
    "print(\"Solution to part (b): u(x) = \") \n",
    "u2"
   ]
  },
  {
   "cell_type": "code",
   "execution_count": null,
   "metadata": {
    "collapsed": false,
    "jupyter": {
     "outputs_hidden": false
    }
   },
   "outputs": [],
   "source": [
    "u2_fcn = lambdify((a,b), u2)\n",
    "print(\"Check with a=0, b=1: u(x) = \")\n",
    "u2_fcn(0,1).simplify()"
   ]
  },
  {
   "cell_type": "markdown",
   "metadata": {},
   "source": [
    "#### Part (c): Skipped."
   ]
  },
  {
   "cell_type": "code",
   "execution_count": null,
   "metadata": {},
   "outputs": [],
   "source": []
  },
  {
   "cell_type": "markdown",
   "metadata": {},
   "source": [
    "## Additional study (a variant of Exercise 2.8)\n",
    "---\n",
    "\n",
    "### Green's function for $-u''+u = f(x)$?\n",
    "\n",
    "Assume $a=0$ and $b=1$ and that homogeneous Dirichlet conditions are used. In that case, the fundamental set of solutions for $-u''+u=0$ is given by $\\{e^{-x}, e^x\\}$. Below, we present the code for obtaining the Green's function based on this fundamental set of solutions. "
   ]
  },
  {
   "cell_type": "code",
   "execution_count": null,
   "metadata": {
    "collapsed": false,
    "jupyter": {
     "outputs_hidden": false
    }
   },
   "outputs": [],
   "source": [
    "x, y = sp.symbols('x, y')\n",
    "c1, c2, c3, c4 = sp.symbols('c1, c2, c3, c4')\n",
    "\n",
    "A = sp.Matrix(([1, 1, 0, 0],\n",
    "               [sp.exp(-y), sp.exp(y), -sp.exp(-y), -sp.exp(y)],\n",
    "               [sp.exp(-y), -sp.exp(y), -sp.exp(-y), sp.exp(y)],\n",
    "               [0,0,sp.exp(-1),sp.exp(1)]))\n",
    "\n",
    "data = sp.Matrix([0,0,-1,0])\n",
    "\n",
    "cs_pretty = sp.linsolve((A, data), c1,c2,c3,c4)\n",
    "cs_pretty"
   ]
  },
  {
   "cell_type": "code",
   "execution_count": null,
   "metadata": {},
   "outputs": [],
   "source": [
    "cs = cs_pretty.args[0]\n",
    "cs"
   ]
  },
  {
   "cell_type": "code",
   "execution_count": null,
   "metadata": {
    "collapsed": false,
    "jupyter": {
     "outputs_hidden": false
    }
   },
   "outputs": [],
   "source": [
    "G = sp.Piecewise((cs[0]*sp.exp(-x)+cs[1]*sp.exp(x), x<y),\n",
    "                 (cs[2]*sp.exp(-x)+cs[3]*sp.exp(x), y<=x))"
   ]
  },
  {
   "cell_type": "code",
   "execution_count": null,
   "metadata": {},
   "outputs": [],
   "source": [
    "G.simplify()"
   ]
  },
  {
   "cell_type": "code",
   "execution_count": null,
   "metadata": {
    "collapsed": false,
    "jupyter": {
     "outputs_hidden": false
    }
   },
   "outputs": [],
   "source": [
    "G_eval = lambdify((x,y), G)"
   ]
  },
  {
   "cell_type": "code",
   "execution_count": null,
   "metadata": {
    "collapsed": false,
    "jupyter": {
     "outputs_hidden": false
    }
   },
   "outputs": [],
   "source": [
    "num_pts = 49\n",
    "x_mesh = np.linspace(0, 1, num_pts + 2)\n",
    "\n",
    "y_pt1 = 0.2\n",
    "y_pt2 = 0.5\n",
    "y_pt3 = 0.9\n",
    "\n",
    "G_plot = 0*x_mesh\n",
    "\n",
    "%matplotlib widget\n",
    "plt.figure(3)\n",
    "\n",
    "for i in range(num_pts+2):\n",
    "    G_plot[i] = G_eval(x_mesh[i], y_pt1)   \n",
    "plt.plot(x_mesh, G_plot, label='y_pt1')\n",
    "\n",
    "for i in range(num_pts+2):\n",
    "    G_plot[i] = G_eval(x_mesh[i], y_pt2)   \n",
    "plt.plot(x_mesh, G_plot, label='y_pt2')\n",
    "\n",
    "for i in range(num_pts+2):\n",
    "    G_plot[i] = G_eval(x_mesh[i],y_pt3)   \n",
    "plt.plot(x_mesh, G_plot, label='y_pt3')\n",
    "\n",
    "plt.legend()"
   ]
  },
  {
   "cell_type": "code",
   "execution_count": null,
   "metadata": {},
   "outputs": [],
   "source": [
    "G1 = sp.Piecewise(((a - x)*(b - y)/(a - b), x<y),\n",
    "                  ((a - y)*(b - x)/(a - b), y<=x))"
   ]
  },
  {
   "cell_type": "code",
   "execution_count": null,
   "metadata": {},
   "outputs": [],
   "source": [
    "G_diff = sp.Piecewise((G.args[0][0] - G1.args[0][0].subs({a:0, b:1}), x<y),\n",
    "                      (G.args[1][0] - G1.args[1][0].subs({a:0, b:1}), y<=x))\n",
    "G_eval = lambdify((x,y), G_diff)"
   ]
  },
  {
   "cell_type": "code",
   "execution_count": null,
   "metadata": {},
   "outputs": [],
   "source": [
    "num_pts = 49\n",
    "x_mesh = np.linspace(0, 1, num_pts + 2)\n",
    "\n",
    "y_pt1 = 0.2\n",
    "y_pt2 = 0.5\n",
    "y_pt3 = 0.9\n",
    "\n",
    "G_plot = 0*x_mesh\n",
    "\n",
    "%matplotlib widget\n",
    "plt.figure(3)\n",
    "\n",
    "for i in range(num_pts+2):\n",
    "    G_plot[i] = G_eval(x_mesh[i], y_pt1)   \n",
    "plt.plot(x_mesh, G_plot, label='y_pt1')\n",
    "\n",
    "for i in range(num_pts+2):\n",
    "    G_plot[i] = G_eval(x_mesh[i], y_pt2)   \n",
    "plt.plot(x_mesh, G_plot, label='y_pt2')\n",
    "\n",
    "for i in range(num_pts+2):\n",
    "    G_plot[i] = G_eval(x_mesh[i],y_pt3)   \n",
    "plt.plot(x_mesh, G_plot, label='y_pt3')\n",
    "\n",
    "plt.legend()"
   ]
  },
  {
   "cell_type": "markdown",
   "metadata": {},
   "source": [
    "## Exploring the Green's function of Exercise 2.8\n",
    "---\n",
    "\n",
    "First, we simply explore the given Green's function below, which is given as part of the problem statement.\n"
   ]
  },
  {
   "cell_type": "code",
   "execution_count": null,
   "metadata": {},
   "outputs": [],
   "source": [
    "G = sp.Piecewise((1/sp.sin(1) * sp.sin(x) * sp.sin(1-y), x<y),\n",
    "                 (1/sp.sin(1) * sp.sin(y) * sp.sin(1-x), y<=x))"
   ]
  },
  {
   "cell_type": "code",
   "execution_count": null,
   "metadata": {
    "collapsed": false,
    "jupyter": {
     "outputs_hidden": false
    }
   },
   "outputs": [],
   "source": [
    "G_eval = lambdify((x,y), G)\n",
    "\n",
    "y_pt1 = 0.2\n",
    "y_pt2 = 0.5\n",
    "y_pt3 = 0.9\n",
    "\n",
    "\n",
    "G_plot = 0*x_mesh\n",
    "%matplotlib widget\n",
    "plt.figure(4)\n",
    "\n",
    "for i in range(num_pts+2):\n",
    "    G_plot[i] = G_eval(x_mesh[i],y_pt1)   \n",
    "plt.plot(x_mesh,G_plot)\n",
    "\n",
    "for i in range(num_pts+2):\n",
    "    G_plot[i] = G_eval(x_mesh[i],y_pt2)   \n",
    "plt.plot(x_mesh,G_plot)\n",
    "\n",
    "for i in range(num_pts+2):\n",
    "    G_plot[i] = G_eval(x_mesh[i],y_pt3)   \n",
    "plt.plot(x_mesh,G_plot)"
   ]
  },
  {
   "cell_type": "markdown",
   "metadata": {},
   "source": [
    "### Now derive the Green's function for Exercise 2.8\n",
    "---\n",
    "\n",
    "The FSS is $\\{\\cos(x), \\sin(x)\\}$, so $u^-(x) = c_1\\cos(x)+c_2\\sin(x)$ and $u^+(x)=c_3\\cos(x)+c_4\\sin(x)$."
   ]
  },
  {
   "cell_type": "code",
   "execution_count": null,
   "metadata": {
    "collapsed": false,
    "jupyter": {
     "outputs_hidden": false
    }
   },
   "outputs": [],
   "source": [
    "x, y = sp.symbols('x, y')\n",
    "c1, c2, c3, c4 = sp.symbols('c1, c2, c3, c4')\n",
    "\n",
    "A = sp.Matrix(([1, 0, 0, 0],\n",
    "               [-sp.cos(y), -sp.sin(y), sp.cos(y), sp.sin(y)],\n",
    "               [sp.sin(y), -sp.cos(y), -sp.sin(y), sp.cos(y)],\n",
    "               [0, 0, sp.cos(1), sp.sin(1)]))\n",
    "\n",
    "data = sp.Matrix([0,0,-1,0])\n",
    "\n",
    "cs_pretty = sp.linsolve((A, data), c1,c2,c3,c4)\n",
    "cs_pretty"
   ]
  },
  {
   "cell_type": "code",
   "execution_count": null,
   "metadata": {},
   "outputs": [],
   "source": [
    "cs = cs_pretty.args[0]\n",
    "cs"
   ]
  },
  {
   "cell_type": "code",
   "execution_count": null,
   "metadata": {
    "collapsed": false,
    "jupyter": {
     "outputs_hidden": false
    }
   },
   "outputs": [],
   "source": [
    "G = sp.Piecewise((cs[0]*sp.cos(x)+cs[1]*sp.sin(x), x<y),\n",
    "                 (cs[2]*sp.cos(x)+cs[3]*sp.sin(x), y<=x))"
   ]
  },
  {
   "cell_type": "code",
   "execution_count": null,
   "metadata": {},
   "outputs": [],
   "source": [
    "G.simplify()"
   ]
  },
  {
   "cell_type": "code",
   "execution_count": null,
   "metadata": {
    "collapsed": false,
    "jupyter": {
     "outputs_hidden": false
    }
   },
   "outputs": [],
   "source": [
    "G_eval = lambdify((x,y), G)"
   ]
  },
  {
   "cell_type": "code",
   "execution_count": null,
   "metadata": {
    "collapsed": false,
    "jupyter": {
     "outputs_hidden": false
    }
   },
   "outputs": [],
   "source": [
    "num_pts = 49\n",
    "x_mesh = np.linspace(0, 1, num_pts + 2)\n",
    "\n",
    "y_pt1 = 0.2\n",
    "y_pt2 = 0.5\n",
    "y_pt3 = 0.9\n",
    "\n",
    "G_plot = 0*x_mesh\n",
    "\n",
    "%matplotlib widget\n",
    "plt.figure(3)\n",
    "\n",
    "for i in range(num_pts+2):\n",
    "    G_plot[i] = G_eval(x_mesh[i], y_pt1)   \n",
    "plt.plot(x_mesh, G_plot, label='y_pt1')\n",
    "\n",
    "for i in range(num_pts+2):\n",
    "    G_plot[i] = G_eval(x_mesh[i], y_pt2)   \n",
    "plt.plot(x_mesh, G_plot, label='y_pt2')\n",
    "\n",
    "for i in range(num_pts+2):\n",
    "    G_plot[i] = G_eval(x_mesh[i],y_pt3)   \n",
    "plt.plot(x_mesh, G_plot, label='y_pt3')\n",
    "\n",
    "plt.legend()"
   ]
  },
  {
   "cell_type": "markdown",
   "metadata": {},
   "source": [
    "## Define a `class` for this type of problem\n",
    "---\n",
    "\n",
    "If you need a quick tutorial (or a refresher) on the basics of Object Oriented Programming (OOP), then I suggest you check out the beginning of this [notebook](https://github.com/CU-Denver-UQ/Math1376/blob/master/Lectures-and-Assignments/06-Machine-Learning/06-Machine-learning-assignment-for-part-a.ipynb)."
   ]
  },
  {
   "cell_type": "code",
   "execution_count": null,
   "metadata": {},
   "outputs": [],
   "source": [
    "class solve_2pt_BVP_Dirichlet(object):\n",
    "    def __init__(self, a, b, f1, f2):\n",
    "        '''\n",
    "        Initialize object for solving a 2pt BVP with homogeneous Dirichlet conditions.\n",
    "        \n",
    "        Parameters\n",
    "        ----------\n",
    "        a : float, int, or sympy.core.symbol.Symbol\n",
    "            position of left-endpoint\n",
    "        b : float, int, or sympy.core.symbol.Symbol\n",
    "            position of right-endpoint\n",
    "        f1 : Function from a lambdify operation\n",
    "            first fundamental solution to homogeneous ODE\n",
    "        f2 : Function from a lambdify operation\n",
    "            second fundamental solution\n",
    "        '''\n",
    "        self.a = a\n",
    "        self.b = b\n",
    "        self.f1 = f1\n",
    "        self.f2 = f2\n",
    "        self.make_G()\n",
    "        \n",
    "    def make_G(self):\n",
    "        '''\n",
    "        Construct the Green's function\n",
    "        '''\n",
    "        x, y = sp.symbols('x, y')\n",
    "        c1, c2, c3, c4 = sp.symbols('c1, c2, c3, c4')\n",
    "\n",
    "        A = sp.Matrix(([self.f1(self.a), self.f2(self.a), 0, 0],\n",
    "                       [-self.f1(y), -self.f2(y), self.f1(y), self.f2(y)],\n",
    "                       [-sp.diff(self.f1(y)), -sp.diff(self.f2(y)), sp.diff(self.f1(y)), sp.diff(self.f2(y))],\n",
    "                       [0, 0, self.f1(self.b), self.f2(self.b)]))\n",
    "\n",
    "        data = sp.Matrix([0,0,-1,0])\n",
    "\n",
    "        cs = sp.linsolve((A, data), c1,c2,c3,c4).args[0]\n",
    "        \n",
    "        self.G = sp.simplify( sp.Piecewise( (sp.factor(cs[0]*self.f1(x)+cs[1]*self.f2(x)), x<y),\n",
    "                                            (sp.factor(cs[2]*self.f1(x)+cs[3]*self.f2(x)), y<=x) ) )\n",
    "        \n",
    "        self.G_eval = lambdify((x,y), self.G)\n",
    "        \n",
    "    def set_data_and_solve(self, f):\n",
    "        '''\n",
    "        Give a source term, f, and solve the problem.\n",
    "        '''\n",
    "        self.f = f\n",
    "        \n",
    "        x, y = sp.symbols('x, y')\n",
    "        \n",
    "        u_form = sp.integrate(self.G*f(y), y)\n",
    "        upper_val = sp.simplify(u_form.subs(y, self.b))\n",
    "        lower_val = sp.simplify(u_form.subs(y, self.a))\n",
    "        \n",
    "        self.u = sp.factor(upper_val.args[1][0] + lower_val.args[0][0])"
   ]
  },
  {
   "cell_type": "markdown",
   "metadata": {},
   "source": [
    "### Insantiate and use the class\n",
    "---\n",
    "\n",
    "Below, we check our class against results from part (a) of Exercise 2.3 above."
   ]
  },
  {
   "cell_type": "code",
   "execution_count": null,
   "metadata": {},
   "outputs": [],
   "source": [
    "a, b, x, y = sp.symbols('a, b, x, y')"
   ]
  },
  {
   "cell_type": "code",
   "execution_count": null,
   "metadata": {},
   "outputs": [],
   "source": [
    "solve_part_a = solve_2pt_BVP_Dirichlet(sp.symbols('a'), sp.symbols('b'), lambdify(x, 1), lambdify(x, x))"
   ]
  },
  {
   "cell_type": "code",
   "execution_count": null,
   "metadata": {},
   "outputs": [],
   "source": [
    "solve_part_a.G "
   ]
  },
  {
   "cell_type": "code",
   "execution_count": null,
   "metadata": {},
   "outputs": [],
   "source": [
    "solve_part_a.set_data_and_solve(lambdify(x, 1))"
   ]
  },
  {
   "cell_type": "code",
   "execution_count": null,
   "metadata": {},
   "outputs": [],
   "source": [
    "sp.simplify(solve_part_a.u).subs({a: 0, b: 1})  # Should be 0.5*x(1-x)"
   ]
  },
  {
   "cell_type": "markdown",
   "metadata": {},
   "source": [
    "## A good exercise or two\n",
    "---\n",
    "\n",
    "If you really want to test your understanding of the theory and ability to code correctly, then here are two things to try.\n",
    "\n",
    "First, students are encouraged to generalize the class above to a `solve_2pt_BVP` superclass (also known as a base or parent class), and then sub-class a few solvers from this superclass based on different types of homogeneous boundary conditions (e.g., Robin, mixed-type, etc. although I would make sure that at least one of the boundary conditions was either Robin or Dirichlet to ensure the existence of a unique Green's function). \n",
    "\n",
    "Second, students are also encouraged to code a general `solve_2pt_BVP` that handles all types of boundary conditions based on the general algorthmic approach to constructing Green's functions as discussed at the top of this notebook when referencing the [Theorem from the Wiki page](https://en.wikipedia.org/wiki/Green's_function#Theorem). In other words, there are no sub-classes from this class. It is just a one-stop solver for all 2-point BVPs with homogeneous boundary conditions. *Hint: In this case, the `A` and `data` matrices constructed in the `make_G` method should probably involve some logic (i.e., conditionals) that handle how to construct these matrices based on the boundary types.*"
   ]
  },
  {
   "cell_type": "code",
   "execution_count": null,
   "metadata": {},
   "outputs": [],
   "source": []
  }
 ],
 "metadata": {
  "anaconda-cloud": {},
  "kernelspec": {
   "display_name": "Python 3",
   "language": "python",
   "name": "python3"
  },
  "language_info": {
   "codemirror_mode": {
    "name": "ipython",
    "version": 3
   },
   "file_extension": ".py",
   "mimetype": "text/x-python",
   "name": "python",
   "nbconvert_exporter": "python",
   "pygments_lexer": "ipython3",
   "version": "3.8.8"
  }
 },
 "nbformat": 4,
 "nbformat_minor": 4
}
