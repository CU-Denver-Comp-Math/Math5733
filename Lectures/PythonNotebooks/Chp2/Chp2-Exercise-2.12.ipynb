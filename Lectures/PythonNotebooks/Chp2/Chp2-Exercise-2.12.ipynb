{
 "cells": [
  {
   "cell_type": "markdown",
   "metadata": {},
   "source": [
    "# Exercise 2.12 parts (a) and (c)"
   ]
  },
  {
   "cell_type": "code",
   "execution_count": null,
   "metadata": {
    "tags": []
   },
   "outputs": [],
   "source": [
    "import numpy as np\n",
    "%matplotlib widget\n",
    "import matplotlib.pyplot as plt"
   ]
  },
  {
   "cell_type": "code",
   "execution_count": null,
   "metadata": {
    "collapsed": false,
    "jupyter": {
     "outputs_hidden": false
    }
   },
   "outputs": [],
   "source": [
    "# Part (a)\n",
    "\n",
    "def f(x):\n",
    "    z = x**2\n",
    "    return z\n",
    "\n",
    "def u_exact(x):\n",
    "    z = x/12-x**4/12\n",
    "    return z"
   ]
  },
  {
   "cell_type": "code",
   "execution_count": null,
   "metadata": {
    "collapsed": false,
    "jupyter": {
     "outputs_hidden": false
    }
   },
   "outputs": [],
   "source": [
    "ns = [5, 10, 20, 40, 80]\n",
    "E_h = np.zeros(5)\n",
    "h = np.zeros(5)\n",
    "alpha_h = np.zeros(5)"
   ]
  },
  {
   "cell_type": "code",
   "execution_count": null,
   "metadata": {
    "collapsed": false,
    "jupyter": {
     "outputs_hidden": false
    }
   },
   "outputs": [],
   "source": [
    "count = 0\n",
    "%matplotlib widget\n",
    "plt.figure(0)\n",
    "# Header for table output in format useful for copy/paste into LaTeX\n",
    "table = '  $n$   &   $h$    &     $E_h$    &   Rate of Conv.  \\\\ \\hline' + '\\n'\n",
    "for n in ns:\n",
    "    A = np.zeros((n,n))\n",
    "    np.fill_diagonal(A,2)\n",
    "    A += np.diag(-np.ones(n-1),k=1)\n",
    "    A += np.diag(-np.ones(n-1),k=-1)\n",
    "    \n",
    "    x = np.linspace(0,1,n+2)\n",
    "    h[count] = x[1]-x[0]\n",
    "    b = h[count]**2 * f(x)  # <----- This line changes in part (c)\n",
    "\n",
    "    v = np.zeros(n+2)\n",
    "    v[1:-1] = np.linalg.solve(A, b[1:-1])  # Numerical soln. using Gaussian elimination\n",
    "\n",
    "    u = u_exact(x)  # Exact soln. <---- This line changes in part (c)\n",
    "    \n",
    "    E_h[count] = np.max(np.abs(u-v))\n",
    "    \n",
    "    if count == 0:\n",
    "        table += ' {:3d}    &   {:.3f}  &  {:.3e}   &         '.format(n, h[count], E_h[count]) + '   \\\\' + '\\n'\n",
    "    else:\n",
    "        alpha_h[count] = np.log(E_h[count]/E_h[count-1])/np.log(h[count]/h[count-1])\n",
    "        table += ' {:3d}    &   {:.3f}  &  {:.3e}   &   {:.4f} '.format(n, h[count], E_h[count], alpha_h[count]) + '  \\\\' + '\\n'\n",
    "    \n",
    "    plt.plot(x,v,label='Num. Soln. $v$ w/ n=' + str(n))\n",
    "    plt.plot(x,u,label='Exact Soln. $u$ w/ n=' + str(n))\n",
    "    \n",
    "    count +=1\n",
    "\n",
    "plt.legend(shadow=True)             \n",
    "print(table)"
   ]
  },
  {
   "cell_type": "code",
   "execution_count": null,
   "metadata": {
    "collapsed": false,
    "jupyter": {
     "outputs_hidden": false
    }
   },
   "outputs": [],
   "source": [
    "# Part (c)\n",
    "\n",
    "def f(x,a):\n",
    "    z = np.cos(a*x)\n",
    "    return z\n",
    "\n",
    "def u_exact(x,a):\n",
    "    z = x/a**2 * (1-np.cos(a)) + 1/a**2 * (np.cos(a*x)-1)\n",
    "    return z\n",
    "\n",
    "a = 0.001 # <----- Try a = 0.001, 0.01, 0.1, 1, np.pi, 10*np.pi, 20*np.pi, etc. "
   ]
  },
  {
   "cell_type": "code",
   "execution_count": null,
   "metadata": {
    "collapsed": false,
    "jupyter": {
     "outputs_hidden": false
    }
   },
   "outputs": [],
   "source": [
    "ns = [5, 10, 20, 40, 80]\n",
    "E_h = np.zeros(5)\n",
    "h = np.zeros(5)\n",
    "alpha_h = np.zeros(5)"
   ]
  },
  {
   "cell_type": "code",
   "execution_count": null,
   "metadata": {
    "collapsed": false,
    "jupyter": {
     "outputs_hidden": false
    }
   },
   "outputs": [],
   "source": [
    "count = 0\n",
    "%matplotlib widget\n",
    "plt.figure(1)\n",
    "# Header for table output in format useful for copy/paste into LaTeX\n",
    "table = '  $n$   &   $h$    &     $E_h$    &   Rate of Conv.  \\\\ \\hline' + '\\n'\n",
    "for n in ns:\n",
    "    A = np.zeros((n,n))\n",
    "    np.fill_diagonal(A,2)\n",
    "    A += np.diag(-np.ones(n-1),k=1)\n",
    "    A += np.diag(-np.ones(n-1),k=-1)\n",
    "    \n",
    "    x = np.linspace(0,1,n+2)\n",
    "    h[count] = x[1]-x[0]\n",
    "    b = h[count]**2 * f(x,a)  # <----- Different than in part (a) because f has new parameter a\n",
    "\n",
    "    v = np.zeros(n+2)\n",
    "    v[1:-1] = np.linalg.solve(A, b[1:-1])  # Numerical soln. using Gaussian elimination\n",
    "\n",
    "    u = u_exact(x,a)  # Exact soln. <---- Different from part (a) because of new parameter a\n",
    "    \n",
    "    E_h[count] = np.max(np.abs(u-v))\n",
    "    \n",
    "    if count == 0:\n",
    "        table += ' {:3d}    &   {:.3f}  &  {:.3e}   &         '.format(n, h[count], E_h[count]) + '   \\\\' + '\\n'\n",
    "    else:\n",
    "        alpha_h[count] = np.log(E_h[count]/E_h[count-1])/np.log(h[count]/h[count-1])\n",
    "        table += ' {:3d}    &   {:.3f}  &  {:.3e}   &   {:.4f} '.format(n, h[count], E_h[count], alpha_h[count]) + '  \\\\' + '\\n'\n",
    "    \n",
    "    plt.plot(x, v, label='Num. Soln. $v$ w/ n=' + str(n))\n",
    "    plt.plot(x, u, label='Exact Soln. $u$ w/ n=' + str(n))\n",
    "    \n",
    "    count +=1\n",
    "\n",
    "plt.legend(shadow=True)             \n",
    "print(table)"
   ]
  },
  {
   "cell_type": "code",
   "execution_count": null,
   "metadata": {},
   "outputs": [],
   "source": []
  }
 ],
 "metadata": {
  "kernelspec": {
   "display_name": "Python 3",
   "language": "python",
   "name": "python3"
  },
  "language_info": {
   "codemirror_mode": {
    "name": "ipython",
    "version": 3
   },
   "file_extension": ".py",
   "mimetype": "text/x-python",
   "name": "python",
   "nbconvert_exporter": "python",
   "pygments_lexer": "ipython3",
   "version": "3.8.8"
  }
 },
 "nbformat": 4,
 "nbformat_minor": 4
}
