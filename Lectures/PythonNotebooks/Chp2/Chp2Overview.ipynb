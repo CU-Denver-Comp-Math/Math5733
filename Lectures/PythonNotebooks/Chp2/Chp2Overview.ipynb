{
 "cells": [
  {
   "cell_type": "markdown",
   "id": "8848cc4e-7f4c-4555-8d22-7d0b4c66d273",
   "metadata": {},
   "source": [
    "# Introduction to Partial Differential Equations\n",
    "---"
   ]
  },
  {
   "cell_type": "markdown",
   "id": "a3baa647-e3dd-4341-9b52-0c01f5fe73a3",
   "metadata": {},
   "source": [
    "## Chapter 2: Two-Point Boundary Value Problems\n",
    "---\n",
    "\n",
    "The Laplacian operator, denoted by $\\Delta$ or $\\nabla^2$ (or sometimes represented in divergence form $\\nabla\\cdot\\nabla$), when applied to a function of $n$ spatial variables $x_1, \\ldots, x_n$ gives the sum of the (non-mixed) second-order derivatives.\n",
    "This operator plays a fundamental role in many PDEs and typically is used to represent diffusion.\n",
    "\n",
    "PDEs of models for which diffusion is a dominant characteristic describing the evolution of the state variable often (but not always) have very smooth solutions (or at least they are generally significantly smoother than the data). \n",
    "We saw examples with the heat equation in [Section 1.4](./Chp1/Chp1Sec4.ipynb) where the Heaviside function was used as an IC, which is discontinuous, yet it is instantaneously transformed into an infinitely smooth function as soon as any $t>0$ is considered.\n",
    "\n",
    "\n",
    "Poisson's equation,\n",
    "\n",
    "$$\n",
    " \\Delta u = f, \\ x\\in\\Omega\\subset\\mathbb{R}^n,\n",
    "$$\n",
    "\n",
    "which we may also write as\n",
    "\n",
    "$$\n",
    "    -\\sum_{j=1}^n \\frac{\\partial^2 u}{\\partial x_j^2} = f, \\ x\\in\\Omega\\subset\\mathbb{R}^n,\n",
    "$$\n",
    "\n",
    "is probably the easiest PDE for us to initially study in depth that involves the Laplacian. \n",
    "This is a ***stationary PDE*** (i.e., it does not depend on time), and is usually used to model the equilibrium behavior of some state in a system that is subjected to a constant forcing $f$ throughout time (e.g., the final \"heat\" distribution we expect from the heat equation model).\n",
    "\n",
    "**Some useful points:**\n",
    "\n",
    "- When $\\Omega\\subset\\mathbb{R}$, then Poisson's equation reduces to an ODE.\n",
    "\n",
    "- Moreover, if $\\Omega = (0,1)\\subset\\mathbb{R}$, then specifying values of $u$ at the boundary, $\\partial\\Omega = \\{\\{0\\}, \\{1\\}\\}$, defines what is called a two-point boundary value problem (BVP).\n",
    "\n",
    "These two points greatly simplify our initial studies while also providing some crucial insight into more general cases, so this two-point BVP serves as our focus in this chapter.\n",
    "\n",
    "As we work through this chapter, we will see that several of the concepts explored in Projects [1.1](./Chp1/Chp1-Project-1.1.ipynb) and [1.2](./Chp1/Chp1-Project-1.2.ipynb) are useful. \n",
    "You may want to review the Python Notebooks created for these projects more carefully than we covered in class prior to reading through this chapter. "
   ]
  },
  {
   "cell_type": "markdown",
   "id": "c4693f68-7e6a-4e8f-bd1e-08604a0b2223",
   "metadata": {},
   "source": [
    "### Chapter Contents\n",
    "---\n",
    "\n",
    "- [Section 2.1: Poisson's Equation in One Dimension](Chp2Sec1.ipynb)\n",
    "\n",
    "- [Section 2.2: A Finite Difference Approximation](Chp2Sec2.ipynb)\n",
    "\n",
    "- [Section 2.3: Continuous and Discrete Solutions](Chp2Sec3.ipynb)\n",
    "\n",
    "- [Section 2.4: Eigenvalue Problems](Chp2Sec4.ipynb)\n",
    "\n",
    "- [Section 2.5: Exercises](Chp2Sec5.ipynb)"
   ]
  },
  {
   "cell_type": "markdown",
   "id": "ba6fbe64-3445-475d-b45c-09172b091b93",
   "metadata": {},
   "source": [
    "**About this material:**\n",
    "\n",
    "These notebooks follow the thematic structure of the text <u>*Introduction to Partial Differential Equations: A Computational Approach*</u> by Tveito and Winther. \n",
    "\n",
    "Additional material and perspectives are either my own or adapted/adopted from the OER textbook <u>Partial Differential Equations</u> by Victor Ivrii from the University or Toronto.\n",
    "\n",
    "The purpose of these notebooks is multifaceted.\n",
    "\n",
    "- First, these notebooks provide a narrative of each chapter that guides students through their initial studies of partial differential equations.\n",
    "\n",
    "- Second, it is often very easy when reading mathematical texts to get lost in the details. These notebooks are intended to keep you centered on the take home messages and the big picture while you work through the details.\n",
    "\n",
    "- Third, these notebooks will help guide our in-class discussions. We use these to provide structure and guidance on which ideas, techniques, and problems we will explore in more detail in a class.\n",
    "\n",
    "- Fourth, these notebooks are also intended to help solidify the connections between chapters, ideas, techniques, and problems that may be easily overlooked.\n",
    "\n",
    "- Fifth, and finally, these notebooks are intended to bridge the divide between the theoretical concepts and the practical implementation/numerical approximations by interweaving live code within the narrative text. \n",
    "\n",
    "I make no claim of originality in these notes. The field of partial differential equations is vast and there are many texts and other resources on the subject matter. These simply represent my attempt at presenting a coherent narrative that students find useful, informative, and, perhaps above all else, practical."
   ]
  },
  {
   "cell_type": "markdown",
   "id": "fdeae902-cc5a-43ff-873f-05107174d43a",
   "metadata": {},
   "source": [
    "---\n",
    "#### Navigation:\n",
    "\n",
    "- [Next](Chp2Sec1.ipynb)\n",
    "---"
   ]
  }
 ],
 "metadata": {
  "kernelspec": {
   "display_name": "Python 3",
   "language": "python",
   "name": "python3"
  },
  "language_info": {
   "codemirror_mode": {
    "name": "ipython",
    "version": 3
   },
   "file_extension": ".py",
   "mimetype": "text/x-python",
   "name": "python",
   "nbconvert_exporter": "python",
   "pygments_lexer": "ipython3",
   "version": "3.8.8"
  }
 },
 "nbformat": 4,
 "nbformat_minor": 5
}
