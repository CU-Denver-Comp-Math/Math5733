{
 "cells": [
  {
   "cell_type": "markdown",
   "id": "074302e6-a198-42e9-917c-4f09e24ea5fe",
   "metadata": {},
   "source": [
    "# Introduction to Partial Differential Equations\n",
    "---"
   ]
  },
  {
   "cell_type": "markdown",
   "id": "5859dc4f-8d40-4d86-a5d0-2d806db10c93",
   "metadata": {},
   "source": [
    "## Section 1.2: What is stability?\n",
    "---\n",
    "\n",
    "The issue of stability of a solution is very important and is the focus of this section.\n",
    "This is conceptually related to the concept of stability of a numerical method, which is something we will study in more detail later in the semester.\n",
    "\n",
    "We can pose many questions regarding stability, but conceptually it almost always boils down to the following type of question\n",
    "> If quantity $X$ in the differential equation/data is perturbed by a small amount $\\epsilon$, is the perturbation to the solution also small?\n",
    "\n",
    "You may recall such questions arise when studying the stability of equilibrium solutions to first-order autonomous ODEs. \n",
    "Here, we briefly describe the stability of a solution with respect to perturbations of an initial condition, which is a common stability problem of interest. \n",
    "\n",
    "We first explore this with some plots."
   ]
  },
  {
   "cell_type": "code",
   "execution_count": null,
   "id": "b6d79a36-6672-4cf3-bf9a-df5bb221cb2a",
   "metadata": {},
   "outputs": [],
   "source": [
    "import numpy as np\n",
    "import matplotlib.pyplot as plt"
   ]
  },
  {
   "cell_type": "code",
   "execution_count": null,
   "id": "53cf7cd3-4bc3-460f-b79a-b06f38255aef",
   "metadata": {},
   "outputs": [],
   "source": [
    "# Consider solutions to $u'(t)=-u(t)$ with IC $u(0)=u_0$\n",
    "\n",
    "def simple_solution(t, u_0):\n",
    "    return u_0 * np.exp(-t)"
   ]
  },
  {
   "cell_type": "code",
   "execution_count": null,
   "id": "52722947-de87-4b10-bbcc-63afbf36d255",
   "metadata": {},
   "outputs": [],
   "source": [
    "# Define an IC\n",
    "u_0 = 1\n",
    "\n",
    "# Define a \"small\" perturbation\n",
    "epsilon = 0.1\n",
    "\n",
    "# Define the perturbed IC, $v_0 = u_0+\\epsilon$, call solution $v(t)$\n",
    "v_0 = u_0 + epsilon"
   ]
  },
  {
   "cell_type": "code",
   "execution_count": null,
   "id": "c1b31cbb-0f36-464d-a734-6131f5267ae4",
   "metadata": {},
   "outputs": [],
   "source": [
    "%matplotlib widget\n",
    "\n",
    "t = np.linspace(0, 2, 50)\n",
    "\n",
    "plt.figure(0)\n",
    "plt.plot(t, simple_solution(t, u_0), 'b', label='IC: $u_0$')\n",
    "plt.plot(t, simple_solution(t, v_0), 'r:', label='IC: $v_0$')\n",
    "plt.legend(fontsize=12)\n",
    "\n",
    "plt.figure(1)\n",
    "plt.plot(t, np.abs(simple_solution(t, u_0)-simple_solution(t, v_0)))\n",
    "plt.title('$|u(t)-v(t)|$')"
   ]
  },
  {
   "cell_type": "markdown",
   "id": "126cec93-20ed-41bf-9600-a154b616d6bb",
   "metadata": {},
   "source": [
    "**What do we observe above?**\n",
    "\n",
    "We observe ***stability*** defined as follows for IVPs.\n",
    "\n",
    "> If small perturbations of the initial condition imply small perturbations of the solution, then we have a ***stable*** IVP. Otherwise, the problem is unstable.\n",
    "\n",
    "A more rigorous definition is: For an IVP with initial condition $u_0$, we call the IVP stable if for all $T, \\eta>0$ there exists an $\\epsilon>0$ such that $|u_0-v_0|<\\epsilon$ implies $|u(t)-v(t)|<\\eta$ for all $t\\geq T$. Here, $u(t)$ and $v(t)$ denote the solutions to the IVP with ICs $u_0$ and $v_0$, respectively.\n",
    "\n",
    "**Remarks:**\n",
    "\n",
    "1. We can define stability with respect to parameters (i.e., perturbations to coefficients in the differential equation) in similar ways. It is best to start with a conceptual definition like above that makes qualitative sense for what we want to mean by stability and then make it rigorous.\n",
    "\n",
    "2. Notice that we define stability for all $t\\geq T$ to ensure that solutions \"eventually\" become and stay \"close\" to each other after some time $T$, but the $\\epsilon$ we may need to use to \"control\" the perturbations may change depending on how quickly we want solutions to become close to each other.\n",
    "\n",
    "3. Notice that the rigorous definition also defines stability for an IVP with initial condition $u_0$, meaning that we are defining stability with respect to some reference initial value $u_0$. It is possible that an IVP is stable with respect to some initial choices for $u_0$ but not with respect to others. This is similar to how continuity of a function is defined. Continuity is a pointwise property for a function. A function may be continuous at one point but discontinuous at other points (e.g., consider the [Heaviside function](https://en.wikipedia.org/wiki/Heaviside_step_function)).\n",
    "\n",
    "Now let's look at an example of a nonlinear unstable IVP."
   ]
  },
  {
   "cell_type": "code",
   "execution_count": null,
   "id": "e150fa73-53b1-47ef-ad8b-c03c62a89fcb",
   "metadata": {},
   "outputs": [],
   "source": [
    "# Define solutions to $u'(t) = tu(t)(u(t)-2)$\n",
    "\n",
    "def nonlinear_solution(t, u_0):\n",
    "    return 2*u_0 / (u_0 + (2-u_0)*np.exp(t**2))"
   ]
  },
  {
   "cell_type": "code",
   "execution_count": null,
   "id": "ba7cd76b-53e3-41aa-81da-8872328588a3",
   "metadata": {},
   "outputs": [],
   "source": [
    "# Define ICs and perturbed ICs\n",
    "\n",
    "u_0 = 2\n",
    "\n",
    "epsilon=0.0001\n",
    "\n",
    "v_0 = u_0 + epsilon \n",
    "w_0 = u_0 - epsilon"
   ]
  },
  {
   "cell_type": "code",
   "execution_count": null,
   "id": "46109e0e-36a9-4f65-b0ea-8962932ce188",
   "metadata": {},
   "outputs": [],
   "source": [
    "%matplotlib widget\n",
    "\n",
    "t = np.linspace(0, 3, 50)\n",
    "\n",
    "plt.figure(2)\n",
    "plt.plot(t, nonlinear_solution(t, u_0), 'b', label='IC: $u_0$')\n",
    "plt.plot(t, nonlinear_solution(t, v_0), 'r:', label='IC: $v_0$')\n",
    "plt.plot(t, nonlinear_solution(t, w_0), 'g-.', label='IC: $w_0$')\n",
    "plt.legend(fontsize=12)\n",
    "\n",
    "plt.title('Unstable at $u_0=2$')"
   ]
  },
  {
   "cell_type": "code",
   "execution_count": null,
   "id": "0992c4f6-b977-4549-9155-c3fa0fdd967a",
   "metadata": {},
   "outputs": [],
   "source": [
    "# Define ICs and perturbed ICs\n",
    "\n",
    "u_0 = 2.01  # Try 1.99 and 2.01\n",
    "\n",
    "epsilon=0.0001\n",
    "\n",
    "v_0 = u_0 + epsilon \n",
    "w_0 = u_0 - epsilon"
   ]
  },
  {
   "cell_type": "code",
   "execution_count": null,
   "id": "ede6fd70-1bbd-4558-a1cd-f57b219e9011",
   "metadata": {},
   "outputs": [],
   "source": [
    "%matplotlib widget\n",
    "\n",
    "t = np.linspace(0, 2, 50)  # Try different final times\n",
    "\n",
    "plt.figure(3)\n",
    "plt.plot(t, nonlinear_solution(t, u_0), 'b', label='IC: $u_0$')\n",
    "plt.plot(t, nonlinear_solution(t, v_0), 'r:', label='IC: $v_0$')\n",
    "plt.plot(t, nonlinear_solution(t, w_0), 'g-.', label='IC: $w_0$')\n",
    "plt.legend(fontsize=12)\n",
    "\n",
    "plt.title('Stable at $u_0\\neq 2$? Consider $u_0<2$ and $u_0>2$ separately.')"
   ]
  },
  {
   "cell_type": "markdown",
   "id": "641202e1-7277-4e8c-95ba-3ad297fd5bbe",
   "metadata": {},
   "source": [
    "---\n",
    "#### <a id=activity1.2.1>Activity 1.2.1</a>\n",
    "---\n",
    "\n",
    "Consider the IVP:\n",
    "\n",
    "$$\n",
    "    \\begin{cases}\n",
    "        u'(t) &= -\\alpha u(t), \\\\\n",
    "        u(0) &= u_0,\n",
    "    \\end{cases}\n",
    "$$\n",
    "\n",
    "for a given $\\alpha>0$.\n",
    "\n",
    "1. Show that the IVP is stable with respect to perturbations in $u_0$. Generate plots that demonstrate this stability.\n",
    "\n",
    "2. Define stability of the IVP with respect to perturbations in $\\alpha$ and then prove the IVP is stable with respect to perturbations for all $\\alpha>0$. Note the importance of $\\alpha>0$ for proving stability by showing that the IVP is not stable with respect to perturbations for any $\\alpha\\leq 0$. Generate plots that demonstrate the stability for $\\alpha>0$ and instability for $\\alpha\\leq 0$.\n",
    "\n",
    "3. **Left for homework:** Define stability with respect to perturbations in both $u_0$ and $\\alpha$. Show stability with respect to joint perturbations. Generate plots that demonstrate the stability for certain regions of $(\\alpha, u_0)\\in\\mathbb{R}^2$."
   ]
  },
  {
   "cell_type": "code",
   "execution_count": null,
   "id": "6d3f5fb4-44ce-4198-974f-011de733dc3b",
   "metadata": {},
   "outputs": [],
   "source": []
  },
  {
   "cell_type": "code",
   "execution_count": null,
   "id": "29f9d832-ddd3-4310-9ec0-f76c7c6fb392",
   "metadata": {},
   "outputs": [],
   "source": []
  },
  {
   "cell_type": "markdown",
   "id": "f0de6573-3af2-4698-a370-51c115693c51",
   "metadata": {},
   "source": [
    "---\n",
    "#### <a id=activity1.2.2>Activity 1.2.2</a>\n",
    "---\n",
    "\n",
    "Consider the nonlinear IVP:\n",
    "\n",
    "$$\n",
    "    \\begin{cases}\n",
    "        u'(t) &= tu(t)(u(t)-2), \\\\\n",
    "        u(0) &= u_0.\n",
    "    \\end{cases}\n",
    "$$\n",
    "\n",
    "1. Verify that \n",
    "\n",
    "$$\n",
    "    u(t) = \\frac{2u_0}{u_0+(2-u_0)e^{t^2}}\n",
    "$$\n",
    "\n",
    "solves this IVP for all $u_0\\neq 2$.\n",
    "\n",
    "2. Prove that if $0\\leq u_0\\leq 2$, then $0\\leq u(t)\\leq 2$ for all $t\\geq 0$. Generate plots to demonstrate this.\n",
    "\n",
    "3. Prove that if $u_0>2$, then $u(t)\\to \\infty$ as \n",
    "$$\n",
    "    t\\to \\left(\\ln\\left(\\frac{u_0}{u_0-2}\\right)\\right)^{1/2}. \n",
    "$$\n",
    "Generate plots that demonstrate this.\n",
    "\n",
    "4. Use the closed-form solution of $u(t)$ given in 1. along with 2. and 3. to make conclusions about the stability properties of $u(t)$ with respect to perturbations in $u_0$ for $0\\leq u_0\\leq 2$ and for $u_0>2$. Generate plots to support your conclusions."
   ]
  },
  {
   "cell_type": "code",
   "execution_count": null,
   "id": "c9f55eac-0379-4f03-b683-cd80d76ff3e1",
   "metadata": {},
   "outputs": [],
   "source": []
  },
  {
   "cell_type": "code",
   "execution_count": null,
   "id": "e884f814-7476-4ec9-ac7e-f6a95687c6d9",
   "metadata": {},
   "outputs": [],
   "source": []
  },
  {
   "cell_type": "markdown",
   "id": "a29f2f81-ade2-453e-aa3e-5c5dcabf284c",
   "metadata": {},
   "source": [
    "---\n",
    "#### Navigation:\n",
    "\n",
    "- [Previous](Chp1Sec1.ipynb)\n",
    "\n",
    "- [Next](Chp1Sec3.ipynb)\n",
    "---"
   ]
  }
 ],
 "metadata": {
  "kernelspec": {
   "display_name": "Python 3",
   "language": "python",
   "name": "python3"
  },
  "language_info": {
   "codemirror_mode": {
    "name": "ipython",
    "version": 3
   },
   "file_extension": ".py",
   "mimetype": "text/x-python",
   "name": "python",
   "nbconvert_exporter": "python",
   "pygments_lexer": "ipython3",
   "version": "3.8.8"
  }
 },
 "nbformat": 4,
 "nbformat_minor": 5
}
