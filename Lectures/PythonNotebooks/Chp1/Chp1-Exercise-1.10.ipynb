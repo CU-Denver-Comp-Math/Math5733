{
 "cells": [
  {
   "cell_type": "markdown",
   "metadata": {},
   "source": [
    "# Exercise 1.10\n",
    "\n",
    "For any given constant $\\epsilon>0$, find the solution of the Cauchy problem\n",
    "$$\n",
    "    \\large u_t = \\epsilon u_{xx}, \\ x\\in\\mathbb{R}, \\ t>0,\n",
    "$$\n",
    "with initial condition\n",
    "$$\n",
    "    \\large u(x,0) = \\begin{cases}\n",
    "                        0, & x\\leq 0, \\\\\n",
    "                        1, & x>0.\n",
    "                    \\end{cases}\n",
    "$$\n",
    "Use the solution formula to plot the solution at $t=1$ for $x\\in[-1,1]$ using $\\epsilon=1/10, 1/2, 1, 10$. "
   ]
  },
  {
   "cell_type": "markdown",
   "metadata": {},
   "source": [
    "## The solution\n",
    "\n",
    "### ***Students should show the derivation of the solution here and remove this comment.***"
   ]
  },
  {
   "cell_type": "markdown",
   "metadata": {},
   "source": [
    "## Numerical evaluation and plots of the solution\n",
    "\n",
    "We use the error function (see https://en.wikipedia.org/wiki/Error_function for more details), commonly denoted by $erf$, that is available as the `erf` function within `scipy.special` (see https://docs.scipy.org/doc/scipy-0.14.0/reference/generated/scipy.special.erf.html)to plot the solution below. \n",
    "First, we import all the necessary packages in the code block below."
   ]
  },
  {
   "cell_type": "code",
   "execution_count": null,
   "metadata": {},
   "outputs": [],
   "source": [
    "import numpy as np\n",
    "%matplotlib inline\n",
    "import matplotlib.pyplot as plt\n",
    "plt.rcParams.update({'font.size': 14})\n",
    "from scipy.special import erf "
   ]
  },
  {
   "cell_type": "markdown",
   "metadata": {},
   "source": [
    "To understand how the `erf` function works, we first recreate Figure 1.6 from the text that is of Eq. (1.55) where\n",
    "$$\n",
    "    \\large u(x,t) = \\frac{1}{\\sqrt{\\pi}} \\int_{-\\infty}^{x/(2\\sqrt{t})} e^{-\\theta^2}\\, d\\theta\n",
    "$$\n",
    "at $t=0, 0.25,$ and $1$ for $x\\in[-2,2]$. \n",
    "Since \n",
    "$$\n",
    "    \\large erf(x) = \\frac{2}{\\sqrt{\\pi}} \\int_0^x e^{-\\theta^2}\\, d\\theta, \n",
    "$$\n",
    "and $u(0,t)=\\frac{1}{2}$ for all $t>0$ (this can be seen by Exercise 1.11(b) and exploiting symmetry), we see that we can rewrite $u(x,t)$ in Eq. (1.55) as\n",
    "$$\n",
    "    \\large u(x,t) = \\frac{1}{2} \\left[1+erf(x/(2\\sqrt{t}))\\right].\n",
    "$$"
   ]
  },
  {
   "cell_type": "code",
   "execution_count": null,
   "metadata": {},
   "outputs": [],
   "source": [
    "# Recreation of Figure 1.6 in text\n",
    "\n",
    "x = np.linspace(-2,2,200)\n",
    "times = np.array([0, 0.25, 1])\n",
    "\n",
    "for t in times:\n",
    "    u = 1./2 *(1+erf(x/(2*np.sqrt(t))))\n",
    "    plt.plot(x, u, label='t='+str(t))\n",
    "\n",
    "plt.legend(loc='upper left')"
   ]
  },
  {
   "cell_type": "markdown",
   "metadata": {},
   "source": [
    "We now plot the solution at $t=1$ for $x\\in[-1,1]$ using $\\epsilon=1/10, 1/2, 1, 10$. \n",
    "\n",
    "First, we rewrite our solution $u(x,t)$ in terms of the error function, so that\n",
    "$$\n",
    "    \\large u(x,t) = ...\n",
    "$$\n",
    "### ***Students should fill in the above, delete this comment, and then make the plots below***"
   ]
  },
  {
   "cell_type": "code",
   "execution_count": null,
   "metadata": {},
   "outputs": [],
   "source": []
  }
 ],
 "metadata": {
  "anaconda-cloud": {},
  "kernelspec": {
   "display_name": "Python 3",
   "language": "python",
   "name": "python3"
  },
  "language_info": {
   "codemirror_mode": {
    "name": "ipython",
    "version": 3
   },
   "file_extension": ".py",
   "mimetype": "text/x-python",
   "name": "python",
   "nbconvert_exporter": "python",
   "pygments_lexer": "ipython3",
   "version": "3.7.6"
  }
 },
 "nbformat": 4,
 "nbformat_minor": 1
}
