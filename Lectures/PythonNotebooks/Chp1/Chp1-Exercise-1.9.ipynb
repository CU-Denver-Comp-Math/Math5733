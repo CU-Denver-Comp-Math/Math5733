{
 "cells": [
  {
   "cell_type": "markdown",
   "id": "76022f9e-14e3-4936-bb6b-c8b73edfac0a",
   "metadata": {},
   "source": [
    "# Exercise 1.9\n",
    "\n",
    "Use the solution derived above (meaning Exercise 1.8) to solve the Cauchy problem\n",
    "\n",
    "$$\n",
    "\\large\n",
    "\\begin{align}\n",
    "    u_{tt} &= 16u_{xx}, & x\\in\\mathbb{R},  & \\ t>0, \\\\\n",
    "    u(x,0) &= 6\\sin^2(x),  & x\\in\\mathbb{R}, \\\\\n",
    "    u_t(x,0) &= \\cos(6x), & x\\in\\mathbb{R}.\n",
    "\\end{align}\n",
    "$$"
   ]
  },
  {
   "cell_type": "markdown",
   "id": "926fa893-114f-464a-8a0f-ac2124b3b6cc",
   "metadata": {},
   "source": [
    "## Solution\n",
    "---\n",
    "\n",
    "Let $c=4$, $\\phi=6\\sin^2x$, and $\\psi=\\cos(6x)$, then from Exercise 1.8, \n",
    "\n",
    "$$\n",
    "\\large\n",
    "\\begin{align}\n",
    "    u(x,t) &= \\frac{1}{2} \\left(6\\sin^2(x+4t) + 6\\sin^2(x-4t)\\right) + \\frac{1}{8} \\int_{x-4t}^{x+4t} \\cos(6\\theta)\\, d\\theta \\\\\n",
    "           &= \\boxed{3\\left(\\sin^2(x+4t) + \\sin^2(x-4t)\\right) + \\frac{1}{48} \\left(\\sin(6x+24t)-\\sin(6x-24t)\\right)}\n",
    "\\end{align}\n",
    "$$"
   ]
  },
  {
   "cell_type": "markdown",
   "id": "945562c5-8fc8-4128-9f7f-cfe5192e8350",
   "metadata": {},
   "source": [
    "### Some additional insight\n",
    "---\n",
    "\n",
    "The solution to this problem is known as a [standing wave](https://en.wikipedia.org/wiki/Standing_wave), which (from Wikipedia) means that the solution \n",
    ">  is a wave which oscillates in time but whose peak amplitude profile does not move in space. The peak amplitude of the wave oscillations at any point in space is constant with time, and the oscillations at different points throughout the wave are in phase. The locations at which the absolute value of the amplitude is minimum are called nodes, and the locations where the absolute value of the amplitude is maximum are called antinodes.\n",
    "\n",
    "We can view this solution as the superposition of two waves traveling in opposite directions.\n",
    "\n",
    "The animation below illustrates this concept."
   ]
  },
  {
   "cell_type": "code",
   "execution_count": null,
   "id": "4f34ec58-326c-4bfd-9be9-7edebb8f9674",
   "metadata": {},
   "outputs": [],
   "source": [
    "import numpy as np\n",
    "import matplotlib.pyplot as plt\n",
    "\n",
    "%matplotlib widget\n",
    "\n",
    "from matplotlib.animation import FuncAnimation\n",
    "\n",
    "from IPython.display import HTML"
   ]
  },
  {
   "cell_type": "code",
   "execution_count": null,
   "id": "eb5f6af1-0c34-482a-9e4a-c1064fa4ed35",
   "metadata": {},
   "outputs": [],
   "source": [
    "def wave1(x,t):\n",
    "    return 3 * (np.sin(x+4*t))**2 + 1/48 * np.sin(6*x+24*t)\n",
    "\n",
    "def wave2(x,t): \n",
    "    return 3 * (np.sin(x-4*t))**2 - 1/48 * np.sin(6*x-24*t)\n",
    "\n",
    "def u(x,t):\n",
    "    return wave1(x,t) + wave2(x,t)"
   ]
  },
  {
   "cell_type": "code",
   "execution_count": null,
   "id": "4b496135-7a58-4128-830e-38c6608871f6",
   "metadata": {},
   "outputs": [],
   "source": [
    "fig, ax = plt.subplots()\n",
    "line1 = ax.plot([], [], 'r-.', label=\"Wave 1\")[0]\n",
    "line2 = ax.plot([], [], 'b-.', label=\"Wave2\")[0]\n",
    "line3 = ax.plot([], [], 'k-', label='$u(x,t)$')[0]\n",
    "\n",
    "x_min = 0\n",
    "x_max = 3*np.pi\n",
    "\n",
    "ax.set_xlim(x_min, x_max)\n",
    "ax.set_ylim(-1, 7)\n",
    "ax.legend([line1, line2, line3], [line1.get_label(), line2.get_label(), line3.get_label()], loc='upper right')\n",
    "\n",
    "plt.title('Traveling and Standing Waves')\n",
    "time_text = ax.text(1, 6.5, \"\", \n",
    "                    fontsize=15, color='red',\n",
    "                    bbox=dict(facecolor='blue', alpha=0.1))\n",
    "\n",
    "plt.close()\n",
    "\n",
    "x = np.linspace(x_min, x_max, 1000)\n",
    "\n",
    "def animate_u(frame_num):\n",
    "    line1.set_data((x, wave1(x,t=frame_num/50)))\n",
    "    line2.set_data((x, wave2(x,t=frame_num/50)))\n",
    "    line3.set_data((x, u(x,t=frame_num/50)))\n",
    "    time_text.set_text(\"Time: {:5.2f}\".format(frame_num/50))\n",
    "    return line1, line2, line3\n",
    "\n",
    "anim = FuncAnimation(fig, animate_u, frames=100, interval=50)"
   ]
  },
  {
   "cell_type": "code",
   "execution_count": null,
   "id": "cf6cc68c-dcf0-4c46-98c0-6c4be33d0bcd",
   "metadata": {},
   "outputs": [],
   "source": [
    "HTML(anim.to_jshtml())"
   ]
  }
 ],
 "metadata": {
  "kernelspec": {
   "display_name": "Python 3",
   "language": "python",
   "name": "python3"
  },
  "language_info": {
   "codemirror_mode": {
    "name": "ipython",
    "version": 3
   },
   "file_extension": ".py",
   "mimetype": "text/x-python",
   "name": "python",
   "nbconvert_exporter": "python",
   "pygments_lexer": "ipython3",
   "version": "3.8.8"
  }
 },
 "nbformat": 4,
 "nbformat_minor": 5
}
