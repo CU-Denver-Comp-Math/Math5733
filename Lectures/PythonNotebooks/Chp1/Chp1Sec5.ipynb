{
 "cells": [
  {
   "cell_type": "markdown",
   "id": "6794248b-5551-442a-ba6b-218aa0f8d197",
   "metadata": {},
   "source": [
    "# Introduction to Partial Differential Equations\n",
    "---"
   ]
  },
  {
   "cell_type": "markdown",
   "id": "9a5faef0-3686-4e14-b8bd-38f4bdfa2ce2",
   "metadata": {},
   "source": [
    "## Section 1.5: Exercises\n",
    "---"
   ]
  },
  {
   "cell_type": "code",
   "execution_count": null,
   "id": "7246be01-13c5-42da-9a01-d9daa2cb00a5",
   "metadata": {},
   "outputs": [],
   "source": [
    "# import libraries/useful content here"
   ]
  },
  {
   "cell_type": "markdown",
   "id": "15c42c73-1ffd-40a9-aa63-571a0b3558aa",
   "metadata": {},
   "source": [
    "--- \n",
    "### Exercise 1.5.1\n",
    "---\n",
    "\n",
    "Consider the IVP:\n",
    "\n",
    "$$\n",
    "    \\begin{cases}\n",
    "        u'(t) &= -\\alpha u(t), \\\\\n",
    "        u(0) &= u_0,\n",
    "    \\end{cases}\n",
    "$$\n",
    "\n",
    "for a given $\\alpha>0$.\n",
    "\n",
    "1. Define stability with respect to perturbations in both $u_0$ and $\\alpha$. \n",
    "\n",
    "*Hint 1: View the IC and parameter as a point, $(u_0,\\alpha)$, in $\\mathbb{R}^2$ and denote a perturbation to it as $(v_0, \\beta)$. How do you typically measure the distance between two points in $\\mathbb{R}^2$?*\n",
    "\n",
    "2. Show stability with respect to joint perturbations. \n",
    "\n",
    "*Hint 2(a): If the distance between two points in $\\mathbb{R}^2$ is bounded by an $\\epsilon$, then what does that mean about the distance between the individual components?*\n",
    "\n",
    "*Hint 2(b): Use a triangle inequailty and the first two parts of Activity 1.2.1 to write $|u_0e^{-\\alpha t} - v_0e^{-\\beta t}| \\leq | u_0e^{-\\alpha t} -v_0e^{-\\alpha t} | + | v_0e^{-\\alpha t} - v_0e^{-\\beta t}|$.*\n",
    "\n",
    "3. Generate plots that demonstrate the stability for certain regions of $(u_0, \\alpha)\\in\\mathbb{R}^2$."
   ]
  },
  {
   "cell_type": "code",
   "execution_count": null,
   "id": "a4dfa575-23c1-4964-95c5-22fcb259fbe1",
   "metadata": {},
   "outputs": [],
   "source": []
  },
  {
   "cell_type": "code",
   "execution_count": null,
   "id": "ae041094-9944-4c76-8be5-adb8100375b0",
   "metadata": {},
   "outputs": [],
   "source": []
  },
  {
   "cell_type": "code",
   "execution_count": null,
   "id": "267211ce-87ce-4d95-ae59-568224187571",
   "metadata": {},
   "outputs": [],
   "source": []
  },
  {
   "cell_type": "markdown",
   "id": "4580d1f5-8486-4dd8-b74b-2d20edceb9b7",
   "metadata": {},
   "source": [
    "--- \n",
    "### Exercise 1.5.2 (Undergraduates do parts 1-3)\n",
    "---\n",
    "\n",
    "Consider the linear nonhomogeneous Cauchy problem given by\n",
    "\n",
    "$$\n",
    "    \\begin{cases}\n",
    "        a(x,t)u_t + b(x,t)u_x &= c(x,t), \\ x\\in\\mathbb{R}, \\ t>0, \\\\\n",
    "        u(x,0) &= f(x).\n",
    "    \\end{cases}\n",
    "$$\n",
    "\n",
    "1. Define what stability with respect to perturbations in the initial data means for this problem using the [$\\sup$-norm metric](https://en.wikipedia.org/wiki/Uniform_norm) to define the size of perturbations in the IC.\n",
    "\n",
    "2. Prove that the problem above is stable with respect to perturbations in the initial data.\n",
    "\n",
    "3. Generate some plots and/or animations illustrating the idea of stability.\n",
    "\n",
    "4. What, if anything, would change if we defined stability using a different norm-induced metric to define the size of perturbations in the IC? For example, what if we had used an $L^p$-norm for some $p\\geq 1$? *Hint: Some perturbations that are small in the $\\sup$-norm metric are infinitely large in an $L^p$ norm for any $p\\geq 1$.*\n",
    "\n",
    "$$\n",
    "    \\| f \\|_{L^p} = \\left( \\int_\\mathbb{R} |f(x)|^p\\, dx \\right)^{1/p}\n",
    "$$\n",
    "\n",
    "$$\n",
    "    \\| f-g \\|_{L^p} = \\left( \\int_\\mathbb{R} |f(x)-g(x)|^p\\, dx \\right)^{1/p}\n",
    "$$"
   ]
  },
  {
   "cell_type": "code",
   "execution_count": null,
   "id": "7ad63e7c-26ff-420d-9ca2-fa4fad10f50f",
   "metadata": {},
   "outputs": [],
   "source": []
  },
  {
   "cell_type": "code",
   "execution_count": null,
   "id": "e67f8b48-f409-4096-8210-34163f0a04c6",
   "metadata": {},
   "outputs": [],
   "source": []
  },
  {
   "cell_type": "code",
   "execution_count": null,
   "id": "31ef92a0-550a-4daa-a992-b379722f65bc",
   "metadata": {},
   "outputs": [],
   "source": []
  },
  {
   "cell_type": "markdown",
   "id": "e2dd284e-ed73-4eef-a3ab-21b7e8b97595",
   "metadata": {},
   "source": [
    "---\n",
    "### Exercise 1.5.3 (Undergraduates do parts 1-4)\n",
    "---\n",
    "\n",
    "This exercise illustrates that there is more to life than forward Euler. \n",
    "While numerical methods for ODEs is a vast subject, we focus on a subset of methods applied in that field within this course.\n",
    "This exercise presents them in a simple framework.\n",
    "\n",
    "We start by considering the simple problem\n",
    "\n",
    "$$ u{'}(t) = −u(t),\\quad u(0) = 1, $$\n",
    "\n",
    "which we know has the analytical solution $u(t) = e^{−t}$."
   ]
  },
  {
   "cell_type": "markdown",
   "id": "8015c036-e522-4078-b26d-eafd53298b8e",
   "metadata": {},
   "source": [
    "1. Recalling the numerical solution computed by the forward Euler method given in [Section 1.3](Chp1Sec3.ipynb) is given by\n",
    "\n",
    "$$ v_m = (1 − \\Delta t)^m, \\quad m= 0, 1, . . . $$\n",
    "\n",
    "and that $v_m$ for $m=1/\\Delta t$ (assuming $\\Delta t$ always divides into 1) converges to $u(1)=e^{-1}$ as $\\Delta t\\downarrow 0$. \n",
    "\n",
    "Justify why we can use a backward time difference approximation\n",
    "\n",
    "$$\n",
    "    \\frac{u(t_{m+1})-u(t_m)}{\\Delta t} \\approx u'(t_{m+1}) = f(t_{m+1}, u(t_{m+1}))\n",
    "$$\n",
    "\n",
    "to derive the general backward Euler method. Then, derive this method and show that for the simple problem\n",
    "\n",
    "$$\n",
    "    v_m = \\frac{1}{(1+\\Delta t)^m} \\to u(1)=e^{-1} \\ \\text{ as } \\Delta t \\downarrow 0.\n",
    "$$"
   ]
  },
  {
   "cell_type": "code",
   "execution_count": null,
   "id": "08227336-48cb-4d98-80a7-52efa2b40ecc",
   "metadata": {},
   "outputs": [],
   "source": []
  },
  {
   "cell_type": "markdown",
   "id": "efcbb897-4bde-4d12-98c2-21f906553227",
   "metadata": {},
   "source": [
    "2.  Explain why\n",
    "\n",
    "$$ \\frac{u(t_{m+1}) − u(t_m)}{\\Delta t} \\approx \\frac{1}{2}f(t_{m+1}, u(t_{m+1})) + f(t_m, u(t_m)) $$\n",
    "\n",
    "and use this to derive the $1/2$-method\n",
    "\n",
    "$$ v_{m+1} − \\frac{1}{2}\\Delta tf(t_{m+1}, v_{m+1}) = v_m + \\frac{1}{2}\\Delta tf(t_m, v_m),\\quad m= 0, 1,\\ldots $$\n",
    "\n",
    "and show that for the simple problem that\n",
    "\n",
    "$$ v_m = \\left( \\frac{2 - \\Delta t}{2 + \\Delta t} \\right)^m $$"
   ]
  },
  {
   "cell_type": "code",
   "execution_count": null,
   "id": "9680ae77-12bf-47fd-84b1-ed0db356ff3b",
   "metadata": {},
   "outputs": [],
   "source": []
  },
  {
   "cell_type": "markdown",
   "id": "e0c7a2df-66a0-4589-9168-2a60f073c555",
   "metadata": {},
   "source": [
    "3. Compare the accuracy of the three methods by computing approximations to the solutions of $u'=-u$ at t = 1 and numerically argue that the errors are $O(\\Delta t)$, $O(\\Delta t)$, and $O((\\Delta t)^2)$ for the Forward Euler, Backward Euler, and $1/2$ methods, respectively."
   ]
  },
  {
   "cell_type": "code",
   "execution_count": null,
   "id": "64c21da7-875f-472c-a1db-b83aba5c19e2",
   "metadata": {},
   "outputs": [],
   "source": []
  },
  {
   "cell_type": "markdown",
   "id": "170b044f-f663-49c0-b4cd-f792df7e4df1",
   "metadata": {},
   "source": [
    "4. Code up the three general methods as functions `FE_method` (you can use the code found in [Section 1.3](Chp1Sec3.ipynb), `BE_method` (motivated and given below), and `half_method` (this is really what you need to do on your own using the perspective outlined below for re-arranging it as a root-problem) and demonstrate that they work on both the simple problem and the nonlinear problem given by $u'(t)=-u^2(t)$ with $u(0)=1$ up to $t=1$."
   ]
  },
  {
   "cell_type": "markdown",
   "id": "fcd39e2e-9f6b-4007-995b-b84acc103e86",
   "metadata": {},
   "source": [
    "**Comments/motivation on the Backward Euler Method.**\n",
    "\n",
    "In general, the ODE is $u'=f(t,u)$, and the backward Euler method is based upon the following approximation, \n",
    "\n",
    "$$\n",
    "    \\frac{u(t_{m+1})-u(t_m)}{\\Delta t} \\approx u'(t_{m+1}) = f(t_{m+1}, u(t_{m+1})).\n",
    "$$\n",
    "\n",
    "By letting $v_m$ denote the numerical approximation to $u(t_m)$, we have that the backward Euler method is to solve\n",
    "\n",
    "$$\n",
    "    \\frac{v_{m+1}-v_m}{\\Delta t} = f(t_{m+1}, v_{m+1}).\n",
    "$$\n",
    "\n",
    "By re-arranging terms, we have that\n",
    "\n",
    "$$\n",
    "    \\Delta tf(t_{m+1}, v_{m+1}) - \\left(v_{m+1}-v_m\\right) =0.\n",
    "$$\n",
    "\n",
    "In other words, we can view the backward Euler method being applied at time $t_{m+1}$ as equivalent to a root-problem where we seek the root to the function defined by \n",
    "\n",
    "$$\n",
    "    R_m(x) := \\Delta tf(t_{m+1}, x) - \\left(x-v_m\\right),\n",
    "$$\n",
    "\n",
    "where we may refer to $R(x)$ as the residual of the backward Euler method and its associated root is the sought after $v_{m+1}$ value. \n",
    "\n",
    "If $f(t, u)=-u$, as in the simple problem, then we can solve this root problem easily by applying algebra where we first write\n",
    "\n",
    "$$\n",
    "    -\\Delta t v_{m+1} - \\left(v_{m+1}-v_m\\right) =0,\n",
    "$$\n",
    "\n",
    "and then re-arrange terms and factor to get\n",
    "\n",
    "$$\n",
    "    (-\\Delta t - 1)v_{m+1} = -v_m,\n",
    "$$\n",
    "\n",
    "which is then solved for $v_{m+1}$ to give\n",
    "\n",
    "$$\n",
    "    v_{m+1} = \\frac{v_m}{1+\\Delta t}.\n",
    "$$\n",
    "\n",
    "However, when $f$ is more complicated (e.g., nonlinear), then\n",
    "\n",
    "$$\n",
    "    \\Delta tf(t_{m+1}, v_{m+1}) - \\left(v_{m+1}-v_m\\right) =0\n",
    "$$\n",
    "\n",
    "requires us to do some more work. If $f(t,u)=-u^2$, then we can use the quadratic formula because the root-problem is nothing more than a root-problem for a quadratic polynomial. In general, we are unlikely to have a simple and well-known formula handy for describing the root to the problem. \n",
    "\n",
    "In the code below, we use the [fsolve](https://docs.scipy.org/doc/scipy/reference/generated/scipy.optimize.fsolve.html) function within `scipy.optimize` to do the root-finding for us!\n",
    "\n",
    "You should manipulate the 1/2-method to make it look like a root-problem as was done above and code up the approach as "
   ]
  },
  {
   "cell_type": "code",
   "execution_count": null,
   "id": "f1f4f5ee-a794-4ddf-87b7-d8fafad484fe",
   "metadata": {},
   "outputs": [],
   "source": [
    "import numpy as np\n",
    "import matplotlib.pyplot as plt\n",
    "\n",
    "from ipywidgets import interact, interactive, fixed, interact_manual\n",
    "import ipywidgets as widgets"
   ]
  },
  {
   "cell_type": "code",
   "execution_count": null,
   "id": "71b499d8-cdd9-4c64-9b1b-fa3611a554f9",
   "metadata": {},
   "outputs": [],
   "source": [
    "from scipy.optimize import fsolve"
   ]
  },
  {
   "cell_type": "code",
   "execution_count": null,
   "id": "891deae5-40d5-4c96-a43b-4c8b73f64ad9",
   "metadata": {},
   "outputs": [],
   "source": [
    "def BE_method(f, Delta_t, n, u_0):\n",
    "    v = np.zeros(n)\n",
    "    v[0] = u_0\n",
    "    BE_residual = lambda v_new, v_old, Delta_t, i: Delta_t*f(i*Delta_t, v_new) - (v_new-v_old)\n",
    "    for i in range(1, n):\n",
    "        v[i] = fsolve(BE_residual, v[i-1], args=(v[i-1], Delta_t, i))\n",
    "    return v"
   ]
  },
  {
   "cell_type": "code",
   "execution_count": null,
   "id": "89b69c94-be15-4d31-9a5f-cb10437a0b9a",
   "metadata": {},
   "outputs": [],
   "source": [
    "# A \"trivial\" example for u'=-u, so f(t,u)=-u\n",
    "f = lambda t, u: -u  \n",
    "\n",
    "u_0 = 1\n",
    "\n",
    "u = lambda t: u_0*np.exp(-t)"
   ]
  },
  {
   "cell_type": "code",
   "execution_count": null,
   "id": "114b2a9b-cb0a-4d23-8916-b3c07e946b8b",
   "metadata": {},
   "outputs": [],
   "source": [
    "def plot_backward_Euler(f, u, t_f, Delta_t, num=1):\n",
    "    # Assuming f is a function of (u,t) and u is a function of t\n",
    "    \n",
    "    plt.figure(num)\n",
    "    plt.clf()\n",
    "    \n",
    "    n = int(t_f/Delta_t)\n",
    "    t = np.linspace(0, t_f, n+1)\n",
    "    \n",
    "    plt.plot(t, BE_method(f, t[1]-t[0], n+1, u(0)), 'r:', \n",
    "             marker='s', label='Approx. soln')\n",
    "    \n",
    "    plt.plot(t, u(t), 'b', label='Exact soln')\n",
    "    \n",
    "    plt.legend()\n",
    "    plt.show()"
   ]
  },
  {
   "cell_type": "code",
   "execution_count": null,
   "id": "7fecad86-a914-4648-aa5f-3036c8be61d2",
   "metadata": {},
   "outputs": [],
   "source": [
    "%reset -f out \n",
    "\n",
    "%matplotlib widget\n",
    "interact_manual(plot_backward_Euler, \n",
    "            f = fixed(f),\n",
    "            u = fixed(u),\n",
    "            t_f = fixed(1),\n",
    "            Delta_t = widgets.FloatText(value=0.1),\n",
    "            num = fixed(1))"
   ]
  },
  {
   "cell_type": "markdown",
   "id": "bdaec361-11d1-4efd-93cf-6b64bef03540",
   "metadata": {},
   "source": [
    "5. Derive the exact solution of the nonlinear problem in part 4 and determine if the numerical conclusions of part 3 hold for it."
   ]
  },
  {
   "cell_type": "code",
   "execution_count": null,
   "id": "ab6d17d4-6c5a-47a5-9971-99ddb2d79470",
   "metadata": {},
   "outputs": [],
   "source": []
  },
  {
   "cell_type": "code",
   "execution_count": null,
   "id": "ce0e6a64-1838-45a7-ae5c-046b12afa5b0",
   "metadata": {},
   "outputs": [],
   "source": []
  },
  {
   "cell_type": "markdown",
   "id": "1a4da0eb-6b46-4b0c-a90c-62e41176b499",
   "metadata": {},
   "source": [
    "---\n",
    "### Exercise 1.5.4 (Undergraduates do part 1)\n",
    "---\n",
    "\n",
    "Assume that $u_1, u_2, \\ldots, u_n$ are solutions of the Cauchy IVP for the heat equation with ICs $u_k(x,0)=f_k(x)$ for $k=1,2,\\ldots, n$. \n",
    "\n",
    "Let $c_1, c_2, \\ldots, c_n\\in\\mathbb{R}$ and define\n",
    "\n",
    "$$\n",
    "    u(x,t) = \\sum_{i=1}^n c_i u_i(x,t).\n",
    "$$\n",
    "\n",
    "1. Show that $u$ solves the Cauchy IVP for the heat equation with initial data $u(x,0) = \\sum_{i=1}^n c_if_i(x)$.\n",
    "\n",
    "2. Create a function `heat_solution_IC` that numerically solves the heat equation for a given IC at any specific $t$ by using the [`quadrature` function in `scipy`](https://docs.scipy.org/doc/scipy/reference/generated/scipy.integrate.quadrature.html).  Compare how this performs to the solution when the Heaviside funciton is the IC that utilizes the `erf` function available in `scipy.special`. Show solutions to some other ICs.\n",
    "\n",
    "3. Create a function `heat_solution_ICs` that takes as one of its parameters a list of functions and array of constants to compute $u(x,t)$ in the form given above when multiple ICs $f_k$ and constants $c_k$ for $k=1,2,\\ldots, n$ are given. This function should call the `heat_solution_IC` within a loop to generate the individual `u_i` solutions from which `u` is computed as a linear combination. Generate examples and plots showing that $u(x,t)$ is indeed the linear combination of the $u_i$ solutions."
   ]
  },
  {
   "cell_type": "code",
   "execution_count": null,
   "id": "75472d13-b826-4e5a-80a5-b6941946a15e",
   "metadata": {},
   "outputs": [],
   "source": []
  },
  {
   "cell_type": "code",
   "execution_count": null,
   "id": "abb9523d-96f1-49cc-94a5-62a6ab779ec0",
   "metadata": {},
   "outputs": [],
   "source": []
  },
  {
   "cell_type": "code",
   "execution_count": null,
   "id": "55813fec-0ede-4ced-a8e7-4d80649bb1d4",
   "metadata": {},
   "outputs": [],
   "source": []
  },
  {
   "cell_type": "markdown",
   "id": "77565d5a-9ba9-4d3a-a9d9-f2c1ce572e65",
   "metadata": {},
   "source": [
    "---\n",
    "#### Navigation:\n",
    "\n",
    "- [Previous](Chp1Sec4.ipynb)\n",
    "\n",
    "- [Next](../Chp2/Chp2Overview.ipynb)\n",
    "---"
   ]
  }
 ],
 "metadata": {
  "kernelspec": {
   "display_name": "Python 3",
   "language": "python",
   "name": "python3"
  },
  "language_info": {
   "codemirror_mode": {
    "name": "ipython",
    "version": 3
   },
   "file_extension": ".py",
   "mimetype": "text/x-python",
   "name": "python",
   "nbconvert_exporter": "python",
   "pygments_lexer": "ipython3",
   "version": "3.8.8"
  }
 },
 "nbformat": 4,
 "nbformat_minor": 5
}
