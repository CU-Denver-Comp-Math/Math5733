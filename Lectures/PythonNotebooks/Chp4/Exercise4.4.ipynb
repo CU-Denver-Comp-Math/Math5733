{
 "cells": [
  {
   "cell_type": "code",
   "execution_count": 2,
   "metadata": {
    "collapsed": true
   },
   "outputs": [],
   "source": [
    "import numpy as np\n",
    "%matplotlib inline\n",
    "import matplotlib.pyplot as plt"
   ]
  },
  {
   "cell_type": "markdown",
   "metadata": {},
   "source": [
    "# Exercise 4.4"
   ]
  },
  {
   "cell_type": "code",
   "execution_count": 3,
   "metadata": {
    "collapsed": true
   },
   "outputs": [],
   "source": [
    "def f(x):\n",
    "    return 3*np.sin(np.pi*x)+5*np.sin(4*np.pi*x)\n",
    "\n",
    "def u_exact(x,t):\n",
    "    return 3*np.sin(np.pi*x)*np.exp(-np.pi**2*t)+5*np.sin(4*np.pi*x)*np.exp(-16*np.pi**2*t)"
   ]
  },
  {
   "cell_type": "code",
   "execution_count": 7,
   "metadata": {
    "collapsed": false
   },
   "outputs": [
    {
     "name": "stdout",
     "output_type": "stream",
     "text": [
      "\n",
      "\n",
      "------------------------------------------------------\n",
      "We take 540.0 time steps of length 0.000185185185185 taken to get to 0.1\n",
      "------------------------------------------------------\n",
      "Final time of simulation is  0.1\n",
      "\n",
      "\n",
      "------------------------------------------------------\n",
      "We take 1500.0 time steps of length 6.66666666667e-05 taken to get to 0.1\n",
      "------------------------------------------------------\n",
      "Final time of simulation is  0.1\n",
      "\n",
      "\n",
      "------------------------------------------------------\n",
      "We take 6000.0 time steps of length 1.66666666667e-05 taken to get to 0.1\n",
      "------------------------------------------------------\n",
      "Final time of simulation is  0.1\n",
      "\n",
      "\n",
      "------------------------------------------------------\n",
      "We take 24000.0 time steps of length 4.16666666667e-06 taken to get to 0.1\n",
      "------------------------------------------------------\n",
      "Final time of simulation is  0.1\n",
      "\n",
      "\n",
      "------------------------------------------------------\n",
      "We take 96000.0 time steps of length 1.04166666667e-06 taken to get to 0.1\n",
      "------------------------------------------------------\n",
      "Final time of simulation is  0.1\n",
      "\n",
      "\n",
      "Rates of convergence:  [ 4.0012244   4.00039965  3.99915514  3.48239277]\n",
      "\n",
      "Errors:  [  2.46000285e-07   3.18617026e-08   1.99080485e-09   1.24498190e-10\n",
      "   1.11393117e-11]\n"
     ]
    }
   ],
   "source": [
    "# Define an explicit method\n",
    "\n",
    "n_s = [29, 49, 99, 199, 399]\n",
    "errors = np.zeros(len(n_s))\n",
    "dt_s = np.zeros(len(n_s))\n",
    "dx_s = np.zeros(len(n_s))\n",
    "count = 0\n",
    "\n",
    "for n in n_s:\n",
    "    \n",
    "    x = np.linspace(0,1,n+2)\n",
    "    \n",
    "    dx = x[1]-x[0]\n",
    "    dx_s[count] = dx\n",
    "    \n",
    "    A = np.zeros((n,n))\n",
    "    np.fill_diagonal(A,2)\n",
    "    A += np.diag(-np.ones(n-1),k=1)\n",
    "    A += np.diag(-np.ones(n-1),k=-1)    \n",
    "    A *= 1/dx**2\n",
    "\n",
    "    r = 1./6\n",
    "    dt = r*dx**2\n",
    "    dt_s[count] = dt\n",
    "    \n",
    "    print \n",
    "    print \n",
    "    print '------------------------------------------------------'\n",
    "    print 'We take %s time steps of length %s taken to get to 0.1' %(0.1/dt, dt)\n",
    "    print '------------------------------------------------------'\n",
    "\n",
    "    \n",
    "    v = np.copy(f(x))\n",
    "    \n",
    "    t = 0\n",
    "\n",
    "    bdry_force = np.zeros(n)\n",
    "\n",
    "    B = np.eye(n)-dt*A\n",
    "    \n",
    "    while t<.1-0.00000001:\n",
    "        v[1:-1] = np.dot(B,v[1:-1]) # <--------- v_{k+1} is now computed\n",
    "        t += dt # <-------------- now go to t_{k+1}\n",
    "    \n",
    "    print 'Final time of simulation is ', t\n",
    "    \n",
    "    errors[count] = np.max(np.abs(v-u_exact(x,t)))\n",
    "    \n",
    "    count += 1\n",
    "\n",
    "print\n",
    "print\n",
    "alpha = np.log(errors[1:]/errors[0:-1])/np.log(dx_s[1:]/dx_s[0:-1])\n",
    "print 'Rates of convergence: ', alpha\n",
    "print\n",
    "print 'Errors: ', errors"
   ]
  },
  {
   "cell_type": "code",
   "execution_count": null,
   "metadata": {
    "collapsed": false
   },
   "outputs": [],
   "source": []
  },
  {
   "cell_type": "code",
   "execution_count": null,
   "metadata": {
    "collapsed": true
   },
   "outputs": [],
   "source": []
  }
 ],
 "metadata": {
  "anaconda-cloud": {},
  "kernelspec": {
   "display_name": "Python [default]",
   "language": "python",
   "name": "python2"
  },
  "language_info": {
   "codemirror_mode": {
    "name": "ipython",
    "version": 2
   },
   "file_extension": ".py",
   "mimetype": "text/x-python",
   "name": "python",
   "nbconvert_exporter": "python",
   "pygments_lexer": "ipython2",
   "version": "2.7.12"
  }
 },
 "nbformat": 4,
 "nbformat_minor": 1
}
