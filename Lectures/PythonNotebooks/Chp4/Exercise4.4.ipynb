{
 "cells": [
  {
   "cell_type": "code",
   "execution_count": null,
   "metadata": {
    "tags": []
   },
   "outputs": [],
   "source": [
    "import numpy as np\n",
    "import matplotlib.pyplot as plt"
   ]
  },
  {
   "cell_type": "markdown",
   "metadata": {},
   "source": [
    "# Exercise 4.4\n",
    "---\n",
    "\n",
    "Students should use the code provided below to help solve Exercise 4.4.\n",
    "\n",
    "Student to-do's:\n",
    "\n",
    "- Make a function called `make_A` for creating the matrix `A` that is called in the loop.\n",
    "\n",
    "- Make a function called `compute_errors` that computes the errors (plural) where it loops through the list of `n_s` given to it as a parameter. The function should also have a parameter `r` that is defaulted to 1/2, which is used to compute `dt`. This function should obviously be calling the `make_A` function. \n",
    "  \n",
    "  - The function should return the errors and two rates of convergence (one as a function of time discretization and the other as a function of spatial discretization) as well as print results to the screen as done in the code below.\n",
    "\n",
    "\n",
    "- Make sure all your code is well commented.\n",
    "\n",
    "- Use the `compute_errors` function to solve for parts (a) and (b).\n",
    "\n",
    "- Make use of Taylor series expansions to explain the differences in (a) and (b) as asked for in part (c)."
   ]
  },
  {
   "cell_type": "code",
   "execution_count": null,
   "metadata": {
    "tags": []
   },
   "outputs": [],
   "source": [
    "def f(x):\n",
    "    return 3*np.sin(np.pi*x)+5*np.sin(4*np.pi*x)\n",
    "\n",
    "def u_exact(x,t):\n",
    "    return 3*np.sin(np.pi*x)*np.exp(-np.pi**2*t)+5*np.sin(4*np.pi*x)*np.exp(-16*np.pi**2*t)"
   ]
  },
  {
   "cell_type": "code",
   "execution_count": null,
   "metadata": {
    "collapsed": false,
    "jupyter": {
     "outputs_hidden": false
    }
   },
   "outputs": [],
   "source": [
    "# Define an explicit method\n",
    "\n",
    "n_s = [29, 49, 99, 199, 399]\n",
    "errors = np.zeros(len(n_s))\n",
    "dt_s = np.zeros(len(n_s))\n",
    "dx_s = np.zeros(len(n_s))\n",
    "count = 0\n",
    "\n",
    "for n in n_s:\n",
    "    \n",
    "    x = np.linspace(0,1,n+2)\n",
    "    \n",
    "    dx = x[1]-x[0]\n",
    "    dx_s[count] = dx\n",
    "    \n",
    "    A = np.zeros((n,n))\n",
    "    np.fill_diagonal(A,2)\n",
    "    A += np.diag(-np.ones(n-1),k=1)\n",
    "    A += np.diag(-np.ones(n-1),k=-1)    \n",
    "    A *= 1/dx**2\n",
    "\n",
    "    r = 1./6\n",
    "    dt = r*dx**2\n",
    "    dt_s[count] = dt\n",
    "    \n",
    "    print('\\n\\n------------------------------------------------------')\n",
    "    print('We take {:e} time steps of length {:e} taken to get to 0.1'.format(0.1/dt, dt))\n",
    "    print('------------------------------------------------------')\n",
    "   \n",
    "    v = np.copy(f(x))\n",
    "    \n",
    "    t = 0\n",
    "\n",
    "    bdry_force = np.zeros(n)\n",
    "\n",
    "    B = np.eye(n)-dt*A\n",
    "    \n",
    "    while t<.1-0.00000001:\n",
    "        v[1:-1] = np.dot(B,v[1:-1])  # <--------- v_{k+1} is now computed\n",
    "        t += dt  # <-------------- now go to t_{k+1}\n",
    "    \n",
    "    print('Final time of simulation is ', t)\n",
    "    \n",
    "    errors[count] = np.max(np.abs(v-u_exact(x,t)))\n",
    "    \n",
    "    count += 1\n",
    "\n",
    "print('\\n\\n')\n",
    "alpha = np.log(errors[1:]/errors[0:-1])/np.log(dx_s[1:]/dx_s[0:-1])\n",
    "print('Rates of convergence: ', alpha)\n",
    "print('\\n\\n')\n",
    "print('Errors: ', errors)"
   ]
  },
  {
   "cell_type": "code",
   "execution_count": null,
   "metadata": {
    "collapsed": false,
    "jupyter": {
     "outputs_hidden": false
    }
   },
   "outputs": [],
   "source": []
  },
  {
   "cell_type": "code",
   "execution_count": null,
   "metadata": {},
   "outputs": [],
   "source": []
  }
 ],
 "metadata": {
  "anaconda-cloud": {},
  "kernelspec": {
   "display_name": "Python 3",
   "language": "python",
   "name": "python3"
  },
  "language_info": {
   "codemirror_mode": {
    "name": "ipython",
    "version": 3
   },
   "file_extension": ".py",
   "mimetype": "text/x-python",
   "name": "python",
   "nbconvert_exporter": "python",
   "pygments_lexer": "ipython3",
   "version": "3.8.8"
  }
 },
 "nbformat": 4,
 "nbformat_minor": 4
}
