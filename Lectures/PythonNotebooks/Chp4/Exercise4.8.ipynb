{
 "cells": [
  {
   "cell_type": "code",
   "execution_count": null,
   "metadata": {
    "tags": []
   },
   "outputs": [],
   "source": [
    "import numpy as np\n",
    "%matplotlib inline\n",
    "import matplotlib.pyplot as plt"
   ]
  },
  {
   "cell_type": "markdown",
   "metadata": {},
   "source": [
    "# Solution to Exercise 4.8"
   ]
  },
  {
   "cell_type": "code",
   "execution_count": null,
   "metadata": {},
   "outputs": [],
   "source": [
    "# Define the data and parameters from part (c)\n",
    "\n",
    "def f(x):\n",
    "    return x+np.sin(3*x)\n",
    "\n",
    "alpha = 2.0\n",
    "ell = np.pi\n",
    "a = -np.pi\n",
    "b = np.pi"
   ]
  },
  {
   "cell_type": "code",
   "execution_count": null,
   "metadata": {
    "collapsed": false,
    "jupyter": {
     "outputs_hidden": false
    }
   },
   "outputs": [],
   "source": [
    "# An explicit scheme\n",
    "\n",
    "# Define an explicit method\n",
    "\n",
    "n = 49\n",
    "x = np.linspace(-ell,ell,n+2) # <---------- ell is used here\n",
    "dx = x[1]-x[0]\n",
    "\n",
    "A = np.zeros((n,n))\n",
    "np.fill_diagonal(A,2)\n",
    "A += np.diag(-np.ones(n-1),k=1)\n",
    "A += np.diag(-np.ones(n-1),k=-1)    \n",
    "A *= alpha/dx**2 # <------- alpha is used here\n",
    "\n",
    "r = 0.25\n",
    "dt = r*dx**2\n",
    "\n",
    "v = np.copy(f(x))\n",
    "v[0] = a # <---------- a is used here\n",
    "v[-1] = b # <--------- b is used here\n",
    "\n",
    "t = 0\n",
    "\n",
    "bdry_force = np.zeros(n)\n",
    "bdry_force[0] = dt*alpha*a/dx**2 # <--------- a is used here and so is alpha\n",
    "bdry_force[-1] = dt*alpha*b/dx**2 # <-------- b is used here and so is alpha\n",
    "\n",
    "B = np.eye(n)-dt*A\n",
    "count = 0\n",
    "\n",
    "while t<10:\n",
    "    v[1:-1] = np.dot(B,v[1:-1]) + bdry_force \n",
    "    t += dt\n",
    "    count += 1\n",
    "    if count%30 == 0:\n",
    "        plt.plot(x,v)\n",
    "\n",
    "plt.figure(2)\n",
    "plt.plot(x,v)"
   ]
  },
  {
   "cell_type": "code",
   "execution_count": null,
   "metadata": {
    "collapsed": false,
    "jupyter": {
     "outputs_hidden": false
    }
   },
   "outputs": [],
   "source": [
    "# An implicit scheme\n",
    "\n",
    "# Define an explicit method\n",
    "\n",
    "n = 49\n",
    "x = np.linspace(-ell,ell,n+2) # <---------- ell is used here\n",
    "dx = x[1]-x[0]\n",
    "\n",
    "A = np.zeros((n,n))\n",
    "np.fill_diagonal(A,2)\n",
    "A += np.diag(-np.ones(n-1),k=1)\n",
    "A += np.diag(-np.ones(n-1),k=-1)    \n",
    "A *= alpha/dx**2 # <------- alpha is used here\n",
    "\n",
    "r = 5\n",
    "dt = r*dx**2\n",
    "\n",
    "v = np.copy(f(x))\n",
    "v[0] = a # <---------- a is used here\n",
    "v[-1] = b # <--------- b is used here\n",
    "\n",
    "t = 0\n",
    "\n",
    "bdry_force = np.zeros(n)\n",
    "bdry_force[0] = dt*alpha*a/dx**2 # <--------- a is used here and so is alpha\n",
    "bdry_force[-1] = dt*alpha*b/dx**2 # <-------- b is used here and so is alpha\n",
    "\n",
    "B = np.eye(n)+dt*A\n",
    "B_inv = np.linalg.inv(B)\n",
    "\n",
    "count = 0\n",
    "\n",
    "while t<10:\n",
    "    t += dt # <------ the data is constant in time, so bdry_force not changing, but still good idea to put this here\n",
    "    v[1:-1] = np.dot( B_inv ,v[1:-1] + bdry_force)\n",
    "    \n",
    "    count += 1\n",
    "    if count%30 == 0:\n",
    "        plt.plot(x,v)\n",
    "        \n",
    "plt.figure(2)\n",
    "plt.plot(x,v)"
   ]
  },
  {
   "cell_type": "code",
   "execution_count": null,
   "metadata": {},
   "outputs": [],
   "source": []
  }
 ],
 "metadata": {
  "anaconda-cloud": {},
  "kernelspec": {
   "display_name": "Python 3",
   "language": "python",
   "name": "python3"
  },
  "language_info": {
   "codemirror_mode": {
    "name": "ipython",
    "version": 3
   },
   "file_extension": ".py",
   "mimetype": "text/x-python",
   "name": "python",
   "nbconvert_exporter": "python",
   "pygments_lexer": "ipython3",
   "version": "3.8.8"
  }
 },
 "nbformat": 4,
 "nbformat_minor": 4
}
