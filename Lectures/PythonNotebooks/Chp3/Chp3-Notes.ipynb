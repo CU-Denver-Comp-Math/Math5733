{
 "cells": [
  {
   "cell_type": "code",
   "execution_count": null,
   "metadata": {
    "tags": []
   },
   "outputs": [],
   "source": [
    "import numpy as np\n",
    "%matplotlib widget \n",
    "import matplotlib.pyplot as plt"
   ]
  },
  {
   "cell_type": "markdown",
   "metadata": {},
   "source": [
    "# Chapter 3: Notes"
   ]
  },
  {
   "cell_type": "markdown",
   "metadata": {},
   "source": [
    "## Section 3.3"
   ]
  },
  {
   "cell_type": "markdown",
   "metadata": {},
   "source": [
    "### Example 3.2\n",
    "\n",
    "We investigate the claim of Eq. (3.23) that on the unit interval $[0,1]$, \n",
    "\n",
    "$$\n",
    "    \\large 1 = \\frac{4}{\\pi} \\sum_{k=1}^\\infty \\frac{1}{2k-1}\\sin((2k-1)\\pi x).\n",
    "$$\n",
    "\n",
    "Let $S_N(x)$ denote a partial sum where the first $N$ terms are taken. \n",
    "We make some plots below motivated by Figure 3.3 in the text. \n",
    "\n",
    "If we take the discretization of $[0,1]$ to be fine enough (say we use twice as many points as the largest $N$ considered), then we see that Figure 3.3 is a bit misleading (there is no pointwise convergence at the endpoints as this figure suggests)."
   ]
  },
  {
   "cell_type": "code",
   "execution_count": null,
   "metadata": {
    "collapsed": false,
    "jupyter": {
     "outputs_hidden": false
    }
   },
   "outputs": [],
   "source": [
    "N = np.array([3, 10, 100])\n",
    "x = np.linspace(0,1, 2*N.max())\n",
    "\n",
    "%matplotlib widget\n",
    "plt.figure(0)\n",
    "for N_iter in N:\n",
    "    S_N = 0*x\n",
    "    for k in range(1,N_iter):\n",
    "        S_N += 1./(2*k-1)*np.sin((2*k-1)*np.pi*x)\n",
    "    S_N *= 4/np.pi\n",
    "    plt.plot(x,S_N, label='N='+str(N_iter))\n",
    "\n",
    "plt.legend(loc='lower center', shadow=True)"
   ]
  },
  {
   "cell_type": "markdown",
   "metadata": {},
   "source": [
    "It appears that the error in the $\\sup$-norm is about $0.2$ for just about every function in the partial sum! \n",
    "In other words, it seems like if we let $f(x)=1$ and $S_N(x)$ be defined as above, then \n",
    "\n",
    "$$\n",
    "    \\large \\sup_{x\\in[0,1]} | f(x) - S_N(x) | \\approx 0.2\n",
    "$$\n",
    "\n",
    "seems to be true for an infinite number of $N$ values. \n",
    "\n",
    "We recall from basic calculus/analysis that for a sequence of real numbers $\\{a_n\\}$ and real number $a$ that if there exists an $\\epsilon>0$ such that no matter what $N$ is chosen there is always an $n>N$ such that $|a_n-a|\\geq \\epsilon$, then $\\{a_n\\}$ does **not** converge to $a$. "
   ]
  },
  {
   "cell_type": "markdown",
   "metadata": {},
   "source": [
    "### A different notion of convergence\n",
    "\n",
    "Suppose that instead of defining the error in the partial sum approximation as $e_N = \\sup_{x\\in[0,1]} |f(x)-S_N(x)|$, we instead measure the mean square error, i.e., we define the square of the error in an ***average*** sense as\n",
    "\n",
    "$$\n",
    "    \\large e_N := \\int_0^1 |f(x)-S_N(x)|^2\\, dx.\n",
    "$$\n",
    "\n",
    "If this $e_N\\to 0$ as $N\\to\\infty$, then we say that the sequence of partial sums converges in mean square (or we say that it converges in $L^2$ if we have taken measure theory/functional analysis). "
   ]
  },
  {
   "cell_type": "markdown",
   "metadata": {},
   "source": [
    "### Approximating the integrals\n",
    "\n",
    "Since the integrand involved in computing $e_N$ looks annoying/irritating to compute, we use [Monte Carlo (MC)](https://en.wikipedia.org/wiki/Monte_Carlo_integration) approximations because they are incredibly simple to implement.\n",
    "\n",
    "MC approximations will generally vary from sample set to sample set, but the variance can be made sufficiently small if a sufficiently large number of samples are used thanks to the [Central Limit Theorem](https://en.wikipedia.org/wiki/Central_limit_theorem). "
   ]
  },
  {
   "cell_type": "code",
   "execution_count": null,
   "metadata": {
    "collapsed": false,
    "jupyter": {
     "outputs_hidden": false
    }
   },
   "outputs": [],
   "source": [
    "M = 1E6  # Number of MC sample points\n",
    "\n",
    "x = np.random.random(int(M))\n",
    "\n",
    "for N_iter in N:\n",
    "    S_N = 0*x\n",
    "    for k in range(1,N_iter):\n",
    "        S_N += 1./(2*k-1)*np.sin((2*k-1)*np.pi*x)\n",
    "    S_N *= 4/np.pi\n",
    "    e_N = 1/M * np.sum((1-S_N)**2)\n",
    "    print(e_N)"
   ]
  },
  {
   "cell_type": "markdown",
   "metadata": {},
   "source": [
    "We now consider Figure 3.4 that shows the solution (or at least a truncated version of (3.24)) at various times.\n",
    "Note that within $t=1E-5$ that the oscillations are already removed."
   ]
  },
  {
   "cell_type": "code",
   "execution_count": null,
   "metadata": {
    "collapsed": false,
    "jupyter": {
     "outputs_hidden": false
    }
   },
   "outputs": [],
   "source": [
    "N = 100  # Specify the truncation\n",
    "t = [0.00001, 0.01, 0.1]  # Specify the times to plot the solution\n",
    "x = np.linspace(0,1, 2*N)\n",
    "\n",
    "%matplotlib widget\n",
    "plt.figure(1)\n",
    "for t_iter in t:\n",
    "    u_N = 0*x\n",
    "    for k in range(1,N):\n",
    "        u_N += 1./(2*k-1)*np.sin((2*k-1)*np.pi*x) * \\\n",
    "                    np.exp(-((2*k-1)*np.pi)**2*t_iter)\n",
    "    u_N *= 4/np.pi\n",
    "    plt.plot(x,u_N, label='t='+str(t_iter))\n",
    "\n",
    "plt.legend(loc='lower center', shadow=True)"
   ]
  },
  {
   "cell_type": "markdown",
   "metadata": {},
   "source": [
    "### Example 3.4\n",
    "\n",
    "Students should try repeating the above numerical studies for this example and compare to Figure 3.5. \n",
    "Are there any places where the pointwise error does not seem to get better? "
   ]
  },
  {
   "cell_type": "code",
   "execution_count": null,
   "metadata": {},
   "outputs": [],
   "source": []
  }
 ],
 "metadata": {
  "anaconda-cloud": {},
  "kernelspec": {
   "display_name": "Python 3",
   "language": "python",
   "name": "python3"
  },
  "language_info": {
   "codemirror_mode": {
    "name": "ipython",
    "version": 3
   },
   "file_extension": ".py",
   "mimetype": "text/x-python",
   "name": "python",
   "nbconvert_exporter": "python",
   "pygments_lexer": "ipython3",
   "version": "3.8.8"
  }
 },
 "nbformat": 4,
 "nbformat_minor": 4
}
