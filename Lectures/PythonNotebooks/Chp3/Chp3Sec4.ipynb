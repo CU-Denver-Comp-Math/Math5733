{
 "cells": [
  {
   "cell_type": "markdown",
   "id": "5a380f32-f633-4308-a629-58583c9b4040",
   "metadata": {},
   "source": [
    "Sections 3.7 and 3.8 of the text."
   ]
  },
  {
   "cell_type": "code",
   "execution_count": null,
   "id": "9158b339-87d2-432c-b290-514a95b6c2d1",
   "metadata": {},
   "outputs": [],
   "source": []
  }
 ],
 "metadata": {
  "kernelspec": {
   "display_name": "Python 3",
   "language": "python",
   "name": "python3"
  },
  "language_info": {
   "codemirror_mode": {
    "name": "ipython",
    "version": 3
   },
   "file_extension": ".py",
   "mimetype": "text/x-python",
   "name": "python",
   "nbconvert_exporter": "python",
   "pygments_lexer": "ipython3",
   "version": "3.8.8"
  }
 },
 "nbformat": 4,
 "nbformat_minor": 5
}
