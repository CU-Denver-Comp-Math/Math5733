{
 "cells": [
  {
   "cell_type": "code",
   "execution_count": null,
   "metadata": {
    "tags": []
   },
   "outputs": [],
   "source": [
    "import numpy as np\n",
    "%matplotlib widget\n",
    "import matplotlib.pyplot as plt\n",
    "from mpl_toolkits.mplot3d import Axes3D"
   ]
  },
  {
   "cell_type": "markdown",
   "metadata": {},
   "source": []
  },
  {
   "cell_type": "code",
   "execution_count": null,
   "metadata": {
    "collapsed": false,
    "jupyter": {
     "outputs_hidden": false
    }
   },
   "outputs": [],
   "source": [
    "# Explicit scheme\n",
    "\n",
    "v_old = 1.0\n",
    "v_current = 0.9\n",
    "\n",
    "lam = -10.0\n",
    "\n",
    "print(2/np.sqrt(np.abs(lam)))\n",
    "\n",
    "dt = 0.633\n",
    "\n",
    "print(dt**2*lam)\n",
    "\n",
    "%matplotlib widget\n",
    "plt.figure(0)\n",
    "plt.scatter([0, dt], [v_old, v_current])\n",
    "\n",
    "t = 1*dt\n",
    "while t<40:\n",
    "    v_new = (2 + dt**2 * lam)*v_current - v_old\n",
    "    v_old = v_current\n",
    "    v_current = v_new\n",
    "    plt.scatter(t, v_new)\n",
    "    t += dt"
   ]
  },
  {
   "cell_type": "code",
   "execution_count": null,
   "metadata": {
    "collapsed": false,
    "jupyter": {
     "outputs_hidden": false
    }
   },
   "outputs": [],
   "source": [
    "# A $h!**y implicit scheme\n",
    "\n",
    "v_old = 1.0\n",
    "v_current = 0.9\n",
    "\n",
    "lam = -10.0\n",
    "\n",
    "print(2/np.sqrt(np.abs(lam)))\n",
    "\n",
    "dt = 1\n",
    "\n",
    "print(dt**2*lam)\n",
    "\n",
    "%matplotlib widget\n",
    "plt.figure(1)\n",
    "plt.scatter([0, dt], [v_old, v_current])\n",
    "\n",
    "t = 1*dt\n",
    "while t<100:\n",
    "    v_new = ( 2*v_current - v_old ) / ( 1 - dt**2 * lam )\n",
    "    v_old = v_current\n",
    "    v_current = v_new\n",
    "    plt.scatter(t, v_new)\n",
    "    t += dt"
   ]
  },
  {
   "cell_type": "code",
   "execution_count": null,
   "metadata": {
    "collapsed": false,
    "jupyter": {
     "outputs_hidden": false
    }
   },
   "outputs": [],
   "source": [
    "# The implicit scheme suggested by exercise 5.9\n",
    "\n",
    "v_old = 1.0\n",
    "v_current = 0.9\n",
    "\n",
    "lam = -10.0\n",
    "\n",
    "print(2/np.sqrt(np.abs(lam)))\n",
    "\n",
    "dt = 1.0\n",
    "\n",
    "print(dt**2*lam)\n",
    "\n",
    "%matplotlib widget\n",
    "plt.figure(2)\n",
    "plt.scatter([0, dt], [v_old, v_current])\n",
    "\n",
    "t = 1*dt\n",
    "while t<200:\n",
    "    v_new = ( (8.0 + 2.0*lam*dt**2)*v_current - (4.0 - lam*dt**2)*v_old ) / ( 4.0 - dt**2 * lam )\n",
    "    v_old = v_current\n",
    "    v_current = v_new\n",
    "    plt.scatter(t, v_new)\n",
    "    t += dt"
   ]
  },
  {
   "cell_type": "code",
   "execution_count": null,
   "metadata": {},
   "outputs": [],
   "source": []
  },
  {
   "cell_type": "code",
   "execution_count": null,
   "metadata": {},
   "outputs": [],
   "source": []
  },
  {
   "cell_type": "code",
   "execution_count": null,
   "metadata": {},
   "outputs": [],
   "source": []
  }
 ],
 "metadata": {
  "anaconda-cloud": {},
  "kernelspec": {
   "display_name": "Python 3",
   "language": "python",
   "name": "python3"
  },
  "language_info": {
   "codemirror_mode": {
    "name": "ipython",
    "version": 3
   },
   "file_extension": ".py",
   "mimetype": "text/x-python",
   "name": "python",
   "nbconvert_exporter": "python",
   "pygments_lexer": "ipython3",
   "version": "3.8.8"
  }
 },
 "nbformat": 4,
 "nbformat_minor": 4
}
